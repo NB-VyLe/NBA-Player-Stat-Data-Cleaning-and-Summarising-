{
 "cells": [
  {
   "cell_type": "code",
   "execution_count": 1,
   "metadata": {},
   "outputs": [],
   "source": [
    "import pandas as pd\n",
    "import matplotlib.pyplot as plt\n",
    "import numpy as np"
   ]
  },
  {
   "cell_type": "markdown",
   "metadata": {},
   "source": [
    "TASK 1. DATA PREPARATION"
   ]
  },
  {
   "cell_type": "code",
   "execution_count": 2,
   "metadata": {},
   "outputs": [
    {
     "data": {
      "text/html": [
       "<div>\n",
       "<style scoped>\n",
       "    .dataframe tbody tr th:only-of-type {\n",
       "        vertical-align: middle;\n",
       "    }\n",
       "\n",
       "    .dataframe tbody tr th {\n",
       "        vertical-align: top;\n",
       "    }\n",
       "\n",
       "    .dataframe thead th {\n",
       "        text-align: right;\n",
       "    }\n",
       "</style>\n",
       "<table border=\"1\" class=\"dataframe\">\n",
       "  <thead>\n",
       "    <tr style=\"text-align: right;\">\n",
       "      <th></th>\n",
       "      <th>Rk</th>\n",
       "      <th>Player</th>\n",
       "      <th>Pos</th>\n",
       "      <th>Age</th>\n",
       "      <th>Tm</th>\n",
       "      <th>G</th>\n",
       "      <th>GS</th>\n",
       "      <th>MP</th>\n",
       "      <th>FG</th>\n",
       "      <th>FGA</th>\n",
       "      <th>...</th>\n",
       "      <th>FT%</th>\n",
       "      <th>ORB</th>\n",
       "      <th>DRB</th>\n",
       "      <th>TRB</th>\n",
       "      <th>AST</th>\n",
       "      <th>STL</th>\n",
       "      <th>BLK</th>\n",
       "      <th>TOV</th>\n",
       "      <th>PF</th>\n",
       "      <th>PTS</th>\n",
       "    </tr>\n",
       "  </thead>\n",
       "  <tbody>\n",
       "    <tr>\n",
       "      <th>0</th>\n",
       "      <td>1</td>\n",
       "      <td>Precious Achiuwa</td>\n",
       "      <td>PF</td>\n",
       "      <td>21</td>\n",
       "      <td>MIA</td>\n",
       "      <td>35</td>\n",
       "      <td>2</td>\n",
       "      <td>491</td>\n",
       "      <td>84</td>\n",
       "      <td>145</td>\n",
       "      <td>...</td>\n",
       "      <td>0.543</td>\n",
       "      <td>46</td>\n",
       "      <td>95</td>\n",
       "      <td>141</td>\n",
       "      <td>20</td>\n",
       "      <td>15</td>\n",
       "      <td>19</td>\n",
       "      <td>32</td>\n",
       "      <td>58</td>\n",
       "      <td>212</td>\n",
       "    </tr>\n",
       "    <tr>\n",
       "      <th>1</th>\n",
       "      <td>2</td>\n",
       "      <td>Jaylen Adams</td>\n",
       "      <td>PG</td>\n",
       "      <td>24</td>\n",
       "      <td>MIL</td>\n",
       "      <td>7</td>\n",
       "      <td>0</td>\n",
       "      <td>18</td>\n",
       "      <td>1</td>\n",
       "      <td>8</td>\n",
       "      <td>...</td>\n",
       "      <td>NaN</td>\n",
       "      <td>0</td>\n",
       "      <td>3</td>\n",
       "      <td>3</td>\n",
       "      <td>2</td>\n",
       "      <td>0</td>\n",
       "      <td>0</td>\n",
       "      <td>0</td>\n",
       "      <td>1</td>\n",
       "      <td>20000</td>\n",
       "    </tr>\n",
       "    <tr>\n",
       "      <th>2</th>\n",
       "      <td>3</td>\n",
       "      <td>Steven Adams</td>\n",
       "      <td>C</td>\n",
       "      <td>27</td>\n",
       "      <td>NOP</td>\n",
       "      <td>33</td>\n",
       "      <td>33</td>\n",
       "      <td>918</td>\n",
       "      <td>115</td>\n",
       "      <td>187</td>\n",
       "      <td>...</td>\n",
       "      <td>0.443</td>\n",
       "      <td>133</td>\n",
       "      <td>161</td>\n",
       "      <td>294</td>\n",
       "      <td>69</td>\n",
       "      <td>29</td>\n",
       "      <td>20</td>\n",
       "      <td>50</td>\n",
       "      <td>63</td>\n",
       "      <td>265</td>\n",
       "    </tr>\n",
       "    <tr>\n",
       "      <th>3</th>\n",
       "      <td>4</td>\n",
       "      <td>Bam Adebayo</td>\n",
       "      <td>C</td>\n",
       "      <td>23</td>\n",
       "      <td>MIA</td>\n",
       "      <td>33</td>\n",
       "      <td>33</td>\n",
       "      <td>1119</td>\n",
       "      <td>236</td>\n",
       "      <td>419</td>\n",
       "      <td>...</td>\n",
       "      <td>0.847</td>\n",
       "      <td>72</td>\n",
       "      <td>241</td>\n",
       "      <td>313</td>\n",
       "      <td>179</td>\n",
       "      <td>29</td>\n",
       "      <td>34</td>\n",
       "      <td>98</td>\n",
       "      <td>80</td>\n",
       "      <td>634</td>\n",
       "    </tr>\n",
       "    <tr>\n",
       "      <th>4</th>\n",
       "      <td>5</td>\n",
       "      <td>LaMarcus Aldridge</td>\n",
       "      <td>C</td>\n",
       "      <td>35</td>\n",
       "      <td>SAS</td>\n",
       "      <td>21</td>\n",
       "      <td>18</td>\n",
       "      <td>544</td>\n",
       "      <td>115</td>\n",
       "      <td>248</td>\n",
       "      <td>...</td>\n",
       "      <td>0.838</td>\n",
       "      <td>17</td>\n",
       "      <td>77</td>\n",
       "      <td>94</td>\n",
       "      <td>36</td>\n",
       "      <td>8</td>\n",
       "      <td>18</td>\n",
       "      <td>20</td>\n",
       "      <td>36</td>\n",
       "      <td>28800</td>\n",
       "    </tr>\n",
       "  </tbody>\n",
       "</table>\n",
       "<p>5 rows × 29 columns</p>\n",
       "</div>"
      ],
      "text/plain": [
       "   Rk             Player Pos  Age    Tm   G  GS    MP   FG  FGA  ...    FT%  \\\n",
       "0   1   Precious Achiuwa  PF   21   MIA  35   2   491   84  145  ...  0.543   \n",
       "1   2       Jaylen Adams  PG   24   MIL   7   0    18    1    8  ...    NaN   \n",
       "2   3       Steven Adams   C   27   NOP  33  33   918  115  187  ...  0.443   \n",
       "3   4        Bam Adebayo   C   23   MIA  33  33  1119  236  419  ...  0.847   \n",
       "4   5  LaMarcus Aldridge   C   35  SAS   21  18   544  115  248  ...  0.838   \n",
       "\n",
       "   ORB  DRB  TRB  AST  STL  BLK  TOV  PF    PTS  \n",
       "0   46   95  141   20   15   19   32  58    212  \n",
       "1    0    3    3    2    0    0    0   1  20000  \n",
       "2  133  161  294   69   29   20   50  63    265  \n",
       "3   72  241  313  179   29   34   98  80    634  \n",
       "4   17   77   94   36    8   18   20  36  28800  \n",
       "\n",
       "[5 rows x 29 columns]"
      ]
     },
     "execution_count": 2,
     "metadata": {},
     "output_type": "execute_result"
    }
   ],
   "source": [
    "nba= pd.read_csv('NBA_players_stats.csv', sep=',', decimal='.')\n",
    "nba.head()"
   ]
  },
  {
   "cell_type": "code",
   "execution_count": 3,
   "metadata": {},
   "outputs": [
    {
     "data": {
      "text/plain": [
       "(512, 29)"
      ]
     },
     "execution_count": 3,
     "metadata": {},
     "output_type": "execute_result"
    }
   ],
   "source": [
    "nba.shape"
   ]
  },
  {
   "cell_type": "code",
   "execution_count": 4,
   "metadata": {},
   "outputs": [
    {
     "name": "stdout",
     "output_type": "stream",
     "text": [
      "<class 'pandas.core.frame.DataFrame'>\n",
      "RangeIndex: 512 entries, 0 to 511\n",
      "Data columns (total 29 columns):\n",
      " #   Column  Non-Null Count  Dtype  \n",
      "---  ------  --------------  -----  \n",
      " 0   Rk      512 non-null    int64  \n",
      " 1   Player  512 non-null    object \n",
      " 2   Pos     512 non-null    object \n",
      " 3   Age     512 non-null    int64  \n",
      " 4   Tm      512 non-null    object \n",
      " 5   G       512 non-null    int64  \n",
      " 6   GS      512 non-null    int64  \n",
      " 7   MP      512 non-null    int64  \n",
      " 8   FG      512 non-null    int64  \n",
      " 9   FGA     512 non-null    int64  \n",
      " 10  FG%     509 non-null    float64\n",
      " 11  3P      512 non-null    int64  \n",
      " 12  3PA     512 non-null    int64  \n",
      " 13  3P%     479 non-null    float64\n",
      " 14  2P      512 non-null    int64  \n",
      " 15  2PA     512 non-null    int64  \n",
      " 16  2P%     505 non-null    float64\n",
      " 17  FT      512 non-null    int64  \n",
      " 18  FTA     512 non-null    int64  \n",
      " 19  FT%     480 non-null    float64\n",
      " 20  ORB     512 non-null    int64  \n",
      " 21  DRB     512 non-null    int64  \n",
      " 22  TRB     512 non-null    int64  \n",
      " 23  AST     512 non-null    int64  \n",
      " 24  STL     512 non-null    int64  \n",
      " 25  BLK     512 non-null    int64  \n",
      " 26  TOV     512 non-null    int64  \n",
      " 27  PF      512 non-null    int64  \n",
      " 28  PTS     512 non-null    int64  \n",
      "dtypes: float64(4), int64(22), object(3)\n",
      "memory usage: 116.1+ KB\n"
     ]
    }
   ],
   "source": [
    "nba.info()\n",
    "# there are 4 columns that have missing values which are FG%, 3P%, 2P% AMD FT%.\n",
    "# the rest of the columns have no missing value"
   ]
  },
  {
   "cell_type": "markdown",
   "metadata": {},
   "source": [
    "1.1 Rk"
   ]
  },
  {
   "cell_type": "code",
   "execution_count": 5,
   "metadata": {},
   "outputs": [
    {
     "name": "stdout",
     "output_type": "stream",
     "text": [
      "min: 1\n",
      "max: 492\n",
      "data set has 512 entries of 495 players in Rk. There is no error in Rk\n"
     ]
    }
   ],
   "source": [
    "# checking range\n",
    "print('min:', nba['Rk'].min())\n",
    "print('max:', nba['Rk'].max())\n",
    "print('data set has 512 entries of 495 players in Rk. There is no error in Rk')"
   ]
  },
  {
   "cell_type": "markdown",
   "metadata": {},
   "source": [
    "1.2 Players"
   ]
  },
  {
   "cell_type": "code",
   "execution_count": 6,
   "metadata": {},
   "outputs": [
    {
     "data": {
      "text/plain": [
       "0       Precious Achiuwa\n",
       "1           Jaylen Adams\n",
       "2           Steven Adams\n",
       "3            Bam Adebayo\n",
       "4      LaMarcus Aldridge\n",
       "             ...        \n",
       "507         Delon Wright\n",
       "508       Thaddeus Young\n",
       "509           Trae Young\n",
       "510          Cody Zeller\n",
       "511          Ivica Zubac\n",
       "Name: Player, Length: 512, dtype: object"
      ]
     },
     "execution_count": 6,
     "metadata": {},
     "output_type": "execute_result"
    }
   ],
   "source": [
    "nba['Player']"
   ]
  },
  {
   "cell_type": "markdown",
   "metadata": {},
   "source": [
    "1.3 Pos"
   ]
  },
  {
   "cell_type": "code",
   "execution_count": 7,
   "metadata": {},
   "outputs": [
    {
     "name": "stdout",
     "output_type": "stream",
     "text": [
      "SG        117\n",
      "PF        102\n",
      "C          98\n",
      "PG         92\n",
      "SF         83\n",
      "SG          3\n",
      " PG         3\n",
      "C           2\n",
      "Pg          1\n",
      " SG         1\n",
      "sg          1\n",
      "Sf          1\n",
      "SF-PF       1\n",
      " SF         1\n",
      "SGa         1\n",
      "pg          1\n",
      "SF.         1\n",
      "PFa         1\n",
      "PF          1\n",
      "PG-SG       1\n",
      "Name: Pos, dtype: int64\n",
      "there are extra white spaces and typos in Pos\n"
     ]
    }
   ],
   "source": [
    "# sanity check\n",
    "print(nba['Pos'].value_counts())\n",
    "print('there are extra white spaces and typos in Pos')"
   ]
  },
  {
   "cell_type": "code",
   "execution_count": 8,
   "metadata": {},
   "outputs": [
    {
     "name": "stdout",
     "output_type": "stream",
     "text": [
      "SG       121\n",
      "PF       103\n",
      "C        100\n",
      "PG        95\n",
      "SF        84\n",
      "Sf         1\n",
      "PG-SG      1\n",
      "PFa        1\n",
      "pg         1\n",
      "SGa        1\n",
      "SF-PF      1\n",
      "SF.        1\n",
      "sg         1\n",
      "Pg         1\n",
      "Name: Pos, dtype: int64\n",
      "there were 6 extra white space errors in Pos\n"
     ]
    }
   ],
   "source": [
    "# stripping white spaces\n",
    "nba['Pos'] = nba['Pos'].str.strip()\n",
    "print(nba['Pos'].value_counts())\n",
    "print('there were 6 extra white space errors in Pos')"
   ]
  },
  {
   "cell_type": "code",
   "execution_count": 9,
   "metadata": {},
   "outputs": [
    {
     "data": {
      "text/plain": [
       "SG       122\n",
       "PF       103\n",
       "C        100\n",
       "PG        97\n",
       "SF        85\n",
       "PG-SG      1\n",
       "SF-PF      1\n",
       "PFA        1\n",
       "SF.        1\n",
       "SGA        1\n",
       "Name: Pos, dtype: int64"
      ]
     },
     "execution_count": 9,
     "metadata": {},
     "output_type": "execute_result"
    }
   ],
   "source": [
    "#fixing typos\n",
    "nba['Pos'] = nba['Pos'].str.upper()#converting characters to upper case\n",
    "nba['Pos'].value_counts()"
   ]
  },
  {
   "cell_type": "code",
   "execution_count": 10,
   "metadata": {},
   "outputs": [
    {
     "name": "stdout",
     "output_type": "stream",
     "text": [
      "SG       123\n",
      "PF       104\n",
      "C        100\n",
      "PG        97\n",
      "SF        86\n",
      "PG-SG      1\n",
      "SF-PF      1\n",
      "Name: Pos, dtype: int64\n",
      "there were 7 typos in Pos\n"
     ]
    }
   ],
   "source": [
    "# fixing typos\n",
    "mask_PFa = nba['Pos'] == 'PFA'\n",
    "nba.loc[mask_PFa, 'Pos'] = 'PF' # PFa to PF\n",
    "\n",
    "mask_SGa = nba['Pos'] == 'SGA'\n",
    "nba.loc[mask_SGa, 'Pos'] = 'SG'#SGa to SG\n",
    "\n",
    "mask_SFdot = nba['Pos'] == 'SF.'\n",
    "nba.loc[mask_SFdot, 'Pos'] = 'SF' # SF.  to SF\n",
    "print(nba['Pos'].value_counts())\n",
    "print('there were 7 typos in Pos')"
   ]
  },
  {
   "cell_type": "markdown",
   "metadata": {},
   "source": [
    "1.4 Age"
   ]
  },
  {
   "cell_type": "code",
   "execution_count": 11,
   "metadata": {
    "scrolled": true
   },
   "outputs": [
    {
     "name": "stdout",
     "output_type": "stream",
     "text": [
      "[ 21  24  27  23  35  22  25  30  26  28  36  20  33  19  32  34  31  29\n",
      " 280 -19  37]\n",
      "there are 2 impossible values in Age\n"
     ]
    }
   ],
   "source": [
    "# Sanity check\n",
    "print(nba['Age'].unique())\n",
    "print('there are 2 impossible values in Age')"
   ]
  },
  {
   "cell_type": "code",
   "execution_count": 12,
   "metadata": {},
   "outputs": [
    {
     "name": "stdout",
     "output_type": "stream",
     "text": [
      "            Player  Age\n",
      "162   Anthony Gill  280\n",
      "197  Killian Hayes  -19\n"
     ]
    }
   ],
   "source": [
    "mask_age_280 = nba['Age'] == 280\n",
    "mask_age_minus19 = nba['Age'] == (-19)\n",
    "print(nba.loc[mask_age_minus19 | mask_age_280 , ['Player', 'Age']])"
   ]
  },
  {
   "cell_type": "code",
   "execution_count": 13,
   "metadata": {},
   "outputs": [
    {
     "data": {
      "text/plain": [
       "array([21, 24, 27, 23, 35, 22, 25, 30, 26, 28, 36, 20, 33, 19, 32, 34, 31,\n",
       "       29, 37], dtype=int64)"
      ]
     },
     "execution_count": 13,
     "metadata": {},
     "output_type": "execute_result"
    }
   ],
   "source": [
    "# fixing impossible values\n",
    "nba['Age'].replace(280, 28, inplace=True)\n",
    "nba['Age'].replace(-19, 19, inplace=True)\n",
    "nba['Age'].unique()"
   ]
  },
  {
   "cell_type": "markdown",
   "metadata": {},
   "source": [
    "1.5 Tm"
   ]
  },
  {
   "cell_type": "code",
   "execution_count": 14,
   "metadata": {},
   "outputs": [
    {
     "name": "stdout",
     "output_type": "stream",
     "text": [
      "BRK     19\n",
      "WAS     18\n",
      "SAC     18\n",
      "HOU     18\n",
      "CLE     17\n",
      "LAL     17\n",
      "DET     17\n",
      "TOR     17\n",
      "NYK     17\n",
      "DAL     17\n",
      "CHI     17\n",
      "DEN     17\n",
      "MIN     16\n",
      "ATL     16\n",
      "ORL     16\n",
      "UTA     16\n",
      "PHO     15\n",
      "MIA     15\n",
      "OKC     15\n",
      "BOS     15\n",
      "LAC     15\n",
      "SAS     14\n",
      "IND     14\n",
      "POR     14\n",
      "MEM     14\n",
      "GSW     14\n",
      "MIL     14\n",
      "CHO     14\n",
      "NOP     14\n",
      "PHI     14\n",
      "TOT      9\n",
      "BRK      3\n",
      " PHI     3\n",
      " IND     2\n",
      "DET      1\n",
      "MIA      1\n",
      "GSW      1\n",
      " ORL     1\n",
      "OKC      1\n",
      "MIL      1\n",
      "H0U      1\n",
      "SAS      1\n",
      " PHO     1\n",
      " WAS     1\n",
      "CLE      1\n",
      "IND      1\n",
      " BOS     1\n",
      " BRK     1\n",
      " SAS     1\n",
      " MEM     1\n",
      " TOT     1\n",
      "NyK      1\n",
      "MEM      1\n",
      "ORL      1\n",
      " NOP     1\n",
      "Name: Tm, dtype: int64\n"
     ]
    }
   ],
   "source": [
    "print(nba['Tm'].value_counts())"
   ]
  },
  {
   "cell_type": "code",
   "execution_count": 15,
   "metadata": {},
   "outputs": [
    {
     "name": "stdout",
     "output_type": "stream",
     "text": [
      "BRK    23\n",
      "WAS    19\n",
      "DET    18\n",
      "SAC    18\n",
      "ORL    18\n",
      "CLE    18\n",
      "HOU    18\n",
      "CHI    17\n",
      "NYK    17\n",
      "LAL    17\n",
      "DEN    17\n",
      "PHI    17\n",
      "IND    17\n",
      "TOR    17\n",
      "DAL    17\n",
      "MEM    16\n",
      "BOS    16\n",
      "SAS    16\n",
      "MIN    16\n",
      "PHO    16\n",
      "ATL    16\n",
      "MIA    16\n",
      "UTA    16\n",
      "OKC    16\n",
      "NOP    15\n",
      "MIL    15\n",
      "LAC    15\n",
      "GSW    15\n",
      "POR    14\n",
      "CHO    14\n",
      "TOT    10\n",
      "H0U     1\n",
      "NyK     1\n",
      "Name: Tm, dtype: int64\n"
     ]
    }
   ],
   "source": [
    "# stripping white space errors\n",
    "#'Tm had 22 extra white space errors in Tm\n",
    "nba['Tm'] = nba['Tm'].str.strip()\n",
    "print(nba['Tm'].value_counts())"
   ]
  },
  {
   "cell_type": "code",
   "execution_count": 16,
   "metadata": {},
   "outputs": [
    {
     "name": "stdout",
     "output_type": "stream",
     "text": [
      "['MIA' 'MIL' 'NOP' 'SAS' 'PHO' 'MEM' 'TOT' 'BRK' 'CLE' 'ORL' 'LAL' 'POR'\n",
      " 'TOR' 'CHI' 'WAS' 'UTA' 'SAC' 'CHO' 'NYK' 'DEN' 'LAC' 'GSW' 'OKC' 'MIN'\n",
      " 'DET' 'DAL' 'IND' 'ATL' 'PHI' 'BOS' 'HOU']\n"
     ]
    }
   ],
   "source": [
    "# fixing typos errors\n",
    "# Tm had 2 typos\n",
    "# H0U to HOU\n",
    "mask_H0U = nba['Tm'] == 'H0U'\n",
    "nba.loc[mask_H0U, 'Tm'] = 'HOU'\n",
    "# NyK to NYK\n",
    "mask_NyK = nba['Tm'] == 'NyK'\n",
    "nba.loc[mask_NyK, 'Tm'] = 'NYK'\n",
    "\n",
    "print(nba['Tm'].unique())\n"
   ]
  },
  {
   "cell_type": "markdown",
   "metadata": {},
   "source": [
    "1.6 G"
   ]
  },
  {
   "cell_type": "code",
   "execution_count": 17,
   "metadata": {},
   "outputs": [
    {
     "name": "stdout",
     "output_type": "stream",
     "text": [
      "Series([], Name: G, dtype: int64)\n",
      "there is no value out of range\n"
     ]
    }
   ],
   "source": [
    "# sanity check\n",
    "mask_over82G = nba['G'] >82\n",
    "mask_lessthan0 = nba['G'] < 0\n",
    "\n",
    "print(nba.loc[mask_over82G | mask_lessthan0, 'G' ])\n",
    "print('there is no value out of range')"
   ]
  },
  {
   "cell_type": "markdown",
   "metadata": {},
   "source": [
    "1.7 GS"
   ]
  },
  {
   "cell_type": "code",
   "execution_count": 18,
   "metadata": {},
   "outputs": [
    {
     "name": "stdout",
     "output_type": "stream",
     "text": [
      "Series([], Name: GS, dtype: int64)\n",
      "there is no value out of range in GS\n"
     ]
    }
   ],
   "source": [
    "# sanity check\n",
    "mask_GS_over82 = nba['GS'] > 82\n",
    "mask_GS_lessthan0 = nba['GS'] < 0\n",
    "\n",
    "print(nba.loc[ mask_GS_over82 | mask_GS_lessthan0 , 'GS'])\n",
    "print('there is no value out of range in GS')"
   ]
  },
  {
   "cell_type": "markdown",
   "metadata": {},
   "source": [
    "1.8 MP"
   ]
  },
  {
   "cell_type": "code",
   "execution_count": 19,
   "metadata": {},
   "outputs": [
    {
     "name": "stdout",
     "output_type": "stream",
     "text": [
      "Series([], Name: MP, dtype: int64)\n",
      "there is no value out of range in MP\n"
     ]
    }
   ],
   "source": [
    "# sanity check\n",
    "# checking range\n",
    "mask_over_G =  nba['MP'] > nba['G']*48\n",
    "mask_G_lessthan0 =  nba['MP'] < 0\n",
    "print(nba.loc[mask_over_G | mask_G_lessthan0, 'MP'])\n",
    "print('there is no value out of range in MP')"
   ]
  },
  {
   "cell_type": "markdown",
   "metadata": {},
   "source": [
    "1.9 2P"
   ]
  },
  {
   "cell_type": "code",
   "execution_count": 20,
   "metadata": {
    "scrolled": true
   },
   "outputs": [
    {
     "data": {
      "image/png": "[encoded data removed]",
      "text/plain": [
       "<Figure size 432x288 with 1 Axes>"
      ]
     },
     "metadata": {
      "needs_background": "light"
     },
     "output_type": "display_data"
    },
    {
     "name": "stdout",
     "output_type": "stream",
     "text": [
      "there is no outlier in 2P\n"
     ]
    }
   ],
   "source": [
    "# sanity check\n",
    "nba['2P'].plot.hist( title='Histogram of 2P')\n",
    "plt.xlabel('points')\n",
    "plt.show()\n",
    "print('there is no outlier in 2P')"
   ]
  },
  {
   "cell_type": "markdown",
   "metadata": {},
   "source": [
    "1.10 3P"
   ]
  },
  {
   "cell_type": "code",
   "execution_count": 21,
   "metadata": {},
   "outputs": [
    {
     "data": {
      "image/png": "[encoded data removed]",
      "text/plain": [
       "<Figure size 432x288 with 1 Axes>"
      ]
     },
     "metadata": {
      "needs_background": "light"
     },
     "output_type": "display_data"
    },
    {
     "name": "stdout",
     "output_type": "stream",
     "text": [
      "there is no outlier in 3P\n"
     ]
    }
   ],
   "source": [
    "# sanity check\n",
    "nba['3P'].plot.hist(title='Historgram of 3P')\n",
    "plt.xlabel('Shots')\n",
    "plt.show()\n",
    "print('there is no outlier in 3P')"
   ]
  },
  {
   "cell_type": "markdown",
   "metadata": {},
   "source": [
    "1.11 FG"
   ]
  },
  {
   "cell_type": "code",
   "execution_count": 22,
   "metadata": {},
   "outputs": [
    {
     "name": "stdout",
     "output_type": "stream",
     "text": [
      "False    512\n",
      "dtype: int64\n",
      "there is no invalid value in FG\n"
     ]
    }
   ],
   "source": [
    "# sanity check\n",
    "mask_invalid_FG = nba['FG'] != nba['2P'] + nba['3P']\n",
    "print(mask_invalid_FG.value_counts())\n",
    "print('there is no invalid value in FG')"
   ]
  },
  {
   "cell_type": "markdown",
   "metadata": {},
   "source": [
    "1.12 2PA"
   ]
  },
  {
   "cell_type": "code",
   "execution_count": 23,
   "metadata": {},
   "outputs": [
    {
     "data": {
      "image/png": "[encoded data removed]",
      "text/plain": [
       "<Figure size 432x288 with 1 Axes>"
      ]
     },
     "metadata": {
      "needs_background": "light"
     },
     "output_type": "display_data"
    },
    {
     "name": "stdout",
     "output_type": "stream",
     "text": [
      "there is no outlier in 2PA\n"
     ]
    }
   ],
   "source": [
    "# sanity check\n",
    "nba['2PA'].plot.hist(title='Histogram of 2PA')\n",
    "plt.xlabel('Attempts')\n",
    "plt.show()\n",
    "print('there is no outlier in 2PA')"
   ]
  },
  {
   "cell_type": "markdown",
   "metadata": {},
   "source": [
    "1.13 3PA"
   ]
  },
  {
   "cell_type": "code",
   "execution_count": 24,
   "metadata": {},
   "outputs": [
    {
     "data": {
      "image/png": "[encoded data removed]",
      "text/plain": [
       "<Figure size 432x288 with 1 Axes>"
      ]
     },
     "metadata": {
      "needs_background": "light"
     },
     "output_type": "display_data"
    },
    {
     "name": "stdout",
     "output_type": "stream",
     "text": [
      "there is no outlier in 3PA\n"
     ]
    }
   ],
   "source": [
    "# sanity check\n",
    "nba['3PA'].plot.hist(title='Histogram of 3PA')\n",
    "plt.xlabel('Attempts')\n",
    "plt.show()\n",
    "print('there is no outlier in 3PA')"
   ]
  },
  {
   "cell_type": "markdown",
   "metadata": {},
   "source": [
    "1.14 FGA"
   ]
  },
  {
   "cell_type": "code",
   "execution_count": 25,
   "metadata": {},
   "outputs": [
    {
     "name": "stdout",
     "output_type": "stream",
     "text": [
      "False    512\n",
      "dtype: int64\n",
      "there is no invalid value in FGA\n"
     ]
    }
   ],
   "source": [
    "# sanity check\n",
    "mask_invalid_FGA = nba['FGA'] != nba['2PA'] + nba['3PA']\n",
    "print(mask_invalid_FGA.value_counts())\n",
    "print('there is no invalid value in FGA')"
   ]
  },
  {
   "cell_type": "markdown",
   "metadata": {},
   "source": [
    "1.15 FG%"
   ]
  },
  {
   "cell_type": "code",
   "execution_count": 26,
   "metadata": {
    "scrolled": true
   },
   "outputs": [
    {
     "name": "stdout",
     "output_type": "stream",
     "text": [
      "there are 3 missing value in FG%\n"
     ]
    }
   ],
   "source": [
    "# missing value check\n",
    "nba['FG%'].isna().value_counts()\n",
    "print('there are 3 missing value in FG%')"
   ]
  },
  {
   "cell_type": "code",
   "execution_count": 27,
   "metadata": {},
   "outputs": [
    {
     "data": {
      "text/html": [
       "<div>\n",
       "<style scoped>\n",
       "    .dataframe tbody tr th:only-of-type {\n",
       "        vertical-align: middle;\n",
       "    }\n",
       "\n",
       "    .dataframe tbody tr th {\n",
       "        vertical-align: top;\n",
       "    }\n",
       "\n",
       "    .dataframe thead th {\n",
       "        text-align: right;\n",
       "    }\n",
       "</style>\n",
       "<table border=\"1\" class=\"dataframe\">\n",
       "  <thead>\n",
       "    <tr style=\"text-align: right;\">\n",
       "      <th></th>\n",
       "      <th>FG%</th>\n",
       "      <th>FG</th>\n",
       "      <th>FGA</th>\n",
       "    </tr>\n",
       "  </thead>\n",
       "  <tbody>\n",
       "    <tr>\n",
       "      <th>178</th>\n",
       "      <td>NaN</td>\n",
       "      <td>0</td>\n",
       "      <td>0</td>\n",
       "    </tr>\n",
       "    <tr>\n",
       "      <th>190</th>\n",
       "      <td>NaN</td>\n",
       "      <td>0</td>\n",
       "      <td>0</td>\n",
       "    </tr>\n",
       "    <tr>\n",
       "      <th>304</th>\n",
       "      <td>NaN</td>\n",
       "      <td>0</td>\n",
       "      <td>0</td>\n",
       "    </tr>\n",
       "  </tbody>\n",
       "</table>\n",
       "</div>"
      ],
      "text/plain": [
       "     FG%  FG  FGA\n",
       "178  NaN   0    0\n",
       "190  NaN   0    0\n",
       "304  NaN   0    0"
      ]
     },
     "execution_count": 27,
     "metadata": {},
     "output_type": "execute_result"
    }
   ],
   "source": [
    "nba.loc[nba['FG%'].isna(), ['FG%', 'FG', 'FGA']]"
   ]
  },
  {
   "cell_type": "code",
   "execution_count": 28,
   "metadata": {},
   "outputs": [
    {
     "name": "stdout",
     "output_type": "stream",
     "text": [
      "False    512\n",
      "Name: FG%, dtype: int64\n"
     ]
    }
   ],
   "source": [
    "# fill missing value with 0\n",
    "nba['FG%'].fillna(0, inplace=True)\n",
    "print(nba['FG%'].isna().value_counts())"
   ]
  },
  {
   "cell_type": "code",
   "execution_count": 29,
   "metadata": {},
   "outputs": [
    {
     "name": "stdout",
     "output_type": "stream",
     "text": [
      "there is no calculation error in FG%\n"
     ]
    }
   ],
   "source": [
    "# sanity check\n",
    "mask_FG_per = nba['FG%'].round(3) != (nba['FG']/nba['FGA']).round(3)\n",
    "nba.loc[mask_FG_per, ['FG%', 'FG', 'FGA']]\n",
    "print('there is no calculation error in FG%')"
   ]
  },
  {
   "cell_type": "markdown",
   "metadata": {},
   "source": [
    "1.16 3P%"
   ]
  },
  {
   "cell_type": "code",
   "execution_count": 30,
   "metadata": {
    "scrolled": true
   },
   "outputs": [
    {
     "data": {
      "image/png": "[encoded data removed]",
      "text/plain": [
       "<Figure size 432x288 with 1 Axes>"
      ]
     },
     "metadata": {
      "needs_background": "light"
     },
     "output_type": "display_data"
    }
   ],
   "source": [
    "# cheking for missing values\n",
    "import math\n",
    "\n",
    "list_3Pper = nba['3P%'].tolist() # list values of 3P%\n",
    "null_list = []\n",
    "non_null_list=[]\n",
    "for i in list_3Pper:\n",
    "    if math.isnan(i) == True: # check missing values\n",
    "        null_list.append(i) # put missing values in a null list\n",
    "    else:\n",
    "        non_null_list.append(i) # put non missing values in non-null list\n",
    "x = ['Non-missing value', 'Mising value'] # label for missing/non missing values\n",
    "y = [len(non_null_list), len(null_list)] # values of columns are the length of lists\n",
    "fig, ax = plt.subplots() \n",
    "ax.barh(x, y, color = ['lightgreen','orange'])\n",
    "for i, v in enumerate(y): # label values for each column\n",
    "    ax.text(v , i , str(v), \n",
    "            color = 'black')\n",
    "plt.xlabel('number of values')\n",
    "plt.title('Bar chart for missing values in 3P%')\n",
    "plt.show()"
   ]
  },
  {
   "cell_type": "code",
   "execution_count": 31,
   "metadata": {},
   "outputs": [
    {
     "data": {
      "text/html": [
       "<div>\n",
       "<style scoped>\n",
       "    .dataframe tbody tr th:only-of-type {\n",
       "        vertical-align: middle;\n",
       "    }\n",
       "\n",
       "    .dataframe tbody tr th {\n",
       "        vertical-align: top;\n",
       "    }\n",
       "\n",
       "    .dataframe thead th {\n",
       "        text-align: right;\n",
       "    }\n",
       "</style>\n",
       "<table border=\"1\" class=\"dataframe\">\n",
       "  <thead>\n",
       "    <tr style=\"text-align: right;\">\n",
       "      <th></th>\n",
       "      <th>3P%</th>\n",
       "      <th>3P</th>\n",
       "      <th>3PA</th>\n",
       "    </tr>\n",
       "  </thead>\n",
       "  <tbody>\n",
       "    <tr>\n",
       "      <th>0</th>\n",
       "      <td>NaN</td>\n",
       "      <td>0</td>\n",
       "      <td>0</td>\n",
       "    </tr>\n",
       "    <tr>\n",
       "      <th>9</th>\n",
       "      <td>NaN</td>\n",
       "      <td>0</td>\n",
       "      <td>0</td>\n",
       "    </tr>\n",
       "    <tr>\n",
       "      <th>14</th>\n",
       "      <td>NaN</td>\n",
       "      <td>0</td>\n",
       "      <td>0</td>\n",
       "    </tr>\n",
       "    <tr>\n",
       "      <th>23</th>\n",
       "      <td>NaN</td>\n",
       "      <td>0</td>\n",
       "      <td>0</td>\n",
       "    </tr>\n",
       "    <tr>\n",
       "      <th>45</th>\n",
       "      <td>NaN</td>\n",
       "      <td>0</td>\n",
       "      <td>0</td>\n",
       "    </tr>\n",
       "    <tr>\n",
       "      <th>55</th>\n",
       "      <td>NaN</td>\n",
       "      <td>0</td>\n",
       "      <td>0</td>\n",
       "    </tr>\n",
       "    <tr>\n",
       "      <th>60</th>\n",
       "      <td>NaN</td>\n",
       "      <td>0</td>\n",
       "      <td>0</td>\n",
       "    </tr>\n",
       "    <tr>\n",
       "      <th>64</th>\n",
       "      <td>NaN</td>\n",
       "      <td>0</td>\n",
       "      <td>0</td>\n",
       "    </tr>\n",
       "    <tr>\n",
       "      <th>71</th>\n",
       "      <td>NaN</td>\n",
       "      <td>0</td>\n",
       "      <td>0</td>\n",
       "    </tr>\n",
       "    <tr>\n",
       "      <th>81</th>\n",
       "      <td>NaN</td>\n",
       "      <td>0</td>\n",
       "      <td>0</td>\n",
       "    </tr>\n",
       "    <tr>\n",
       "      <th>85</th>\n",
       "      <td>NaN</td>\n",
       "      <td>0</td>\n",
       "      <td>0</td>\n",
       "    </tr>\n",
       "    <tr>\n",
       "      <th>103</th>\n",
       "      <td>NaN</td>\n",
       "      <td>0</td>\n",
       "      <td>0</td>\n",
       "    </tr>\n",
       "    <tr>\n",
       "      <th>112</th>\n",
       "      <td>NaN</td>\n",
       "      <td>0</td>\n",
       "      <td>0</td>\n",
       "    </tr>\n",
       "    <tr>\n",
       "      <th>122</th>\n",
       "      <td>NaN</td>\n",
       "      <td>0</td>\n",
       "      <td>0</td>\n",
       "    </tr>\n",
       "    <tr>\n",
       "      <th>135</th>\n",
       "      <td>NaN</td>\n",
       "      <td>0</td>\n",
       "      <td>0</td>\n",
       "    </tr>\n",
       "    <tr>\n",
       "      <th>137</th>\n",
       "      <td>NaN</td>\n",
       "      <td>0</td>\n",
       "      <td>0</td>\n",
       "    </tr>\n",
       "    <tr>\n",
       "      <th>139</th>\n",
       "      <td>NaN</td>\n",
       "      <td>0</td>\n",
       "      <td>0</td>\n",
       "    </tr>\n",
       "    <tr>\n",
       "      <th>152</th>\n",
       "      <td>NaN</td>\n",
       "      <td>0</td>\n",
       "      <td>0</td>\n",
       "    </tr>\n",
       "    <tr>\n",
       "      <th>178</th>\n",
       "      <td>NaN</td>\n",
       "      <td>0</td>\n",
       "      <td>0</td>\n",
       "    </tr>\n",
       "    <tr>\n",
       "      <th>187</th>\n",
       "      <td>NaN</td>\n",
       "      <td>0</td>\n",
       "      <td>0</td>\n",
       "    </tr>\n",
       "    <tr>\n",
       "      <th>190</th>\n",
       "      <td>NaN</td>\n",
       "      <td>0</td>\n",
       "      <td>0</td>\n",
       "    </tr>\n",
       "    <tr>\n",
       "      <th>195</th>\n",
       "      <td>NaN</td>\n",
       "      <td>0</td>\n",
       "      <td>0</td>\n",
       "    </tr>\n",
       "    <tr>\n",
       "      <th>196</th>\n",
       "      <td>NaN</td>\n",
       "      <td>0</td>\n",
       "      <td>0</td>\n",
       "    </tr>\n",
       "    <tr>\n",
       "      <th>243</th>\n",
       "      <td>NaN</td>\n",
       "      <td>0</td>\n",
       "      <td>0</td>\n",
       "    </tr>\n",
       "    <tr>\n",
       "      <th>252</th>\n",
       "      <td>NaN</td>\n",
       "      <td>0</td>\n",
       "      <td>0</td>\n",
       "    </tr>\n",
       "    <tr>\n",
       "      <th>304</th>\n",
       "      <td>NaN</td>\n",
       "      <td>0</td>\n",
       "      <td>0</td>\n",
       "    </tr>\n",
       "    <tr>\n",
       "      <th>376</th>\n",
       "      <td>NaN</td>\n",
       "      <td>0</td>\n",
       "      <td>0</td>\n",
       "    </tr>\n",
       "    <tr>\n",
       "      <th>377</th>\n",
       "      <td>NaN</td>\n",
       "      <td>0</td>\n",
       "      <td>0</td>\n",
       "    </tr>\n",
       "    <tr>\n",
       "      <th>378</th>\n",
       "      <td>NaN</td>\n",
       "      <td>0</td>\n",
       "      <td>0</td>\n",
       "    </tr>\n",
       "    <tr>\n",
       "      <th>382</th>\n",
       "      <td>NaN</td>\n",
       "      <td>0</td>\n",
       "      <td>0</td>\n",
       "    </tr>\n",
       "    <tr>\n",
       "      <th>383</th>\n",
       "      <td>NaN</td>\n",
       "      <td>0</td>\n",
       "      <td>0</td>\n",
       "    </tr>\n",
       "    <tr>\n",
       "      <th>404</th>\n",
       "      <td>NaN</td>\n",
       "      <td>0</td>\n",
       "      <td>0</td>\n",
       "    </tr>\n",
       "    <tr>\n",
       "      <th>411</th>\n",
       "      <td>NaN</td>\n",
       "      <td>0</td>\n",
       "      <td>0</td>\n",
       "    </tr>\n",
       "  </tbody>\n",
       "</table>\n",
       "</div>"
      ],
      "text/plain": [
       "     3P%  3P  3PA\n",
       "0    NaN   0    0\n",
       "9    NaN   0    0\n",
       "14   NaN   0    0\n",
       "23   NaN   0    0\n",
       "45   NaN   0    0\n",
       "55   NaN   0    0\n",
       "60   NaN   0    0\n",
       "64   NaN   0    0\n",
       "71   NaN   0    0\n",
       "81   NaN   0    0\n",
       "85   NaN   0    0\n",
       "103  NaN   0    0\n",
       "112  NaN   0    0\n",
       "122  NaN   0    0\n",
       "135  NaN   0    0\n",
       "137  NaN   0    0\n",
       "139  NaN   0    0\n",
       "152  NaN   0    0\n",
       "178  NaN   0    0\n",
       "187  NaN   0    0\n",
       "190  NaN   0    0\n",
       "195  NaN   0    0\n",
       "196  NaN   0    0\n",
       "243  NaN   0    0\n",
       "252  NaN   0    0\n",
       "304  NaN   0    0\n",
       "376  NaN   0    0\n",
       "377  NaN   0    0\n",
       "378  NaN   0    0\n",
       "382  NaN   0    0\n",
       "383  NaN   0    0\n",
       "404  NaN   0    0\n",
       "411  NaN   0    0"
      ]
     },
     "execution_count": 31,
     "metadata": {},
     "output_type": "execute_result"
    }
   ],
   "source": [
    "nba.loc[nba['3P%'].isna(), ['3P%', '3P', '3PA']]"
   ]
  },
  {
   "cell_type": "code",
   "execution_count": 32,
   "metadata": {},
   "outputs": [
    {
     "data": {
      "text/plain": [
       "Series([], Name: 3P%, dtype: float64)"
      ]
     },
     "execution_count": 32,
     "metadata": {},
     "output_type": "execute_result"
    }
   ],
   "source": [
    "# fill missing value by 0\n",
    "nba['3P%'].fillna(0, inplace = True)\n",
    "nba.loc[nba['3P%'].isna(), '3P%']"
   ]
  },
  {
   "cell_type": "code",
   "execution_count": 33,
   "metadata": {},
   "outputs": [
    {
     "data": {
      "text/html": [
       "<div>\n",
       "<style scoped>\n",
       "    .dataframe tbody tr th:only-of-type {\n",
       "        vertical-align: middle;\n",
       "    }\n",
       "\n",
       "    .dataframe tbody tr th {\n",
       "        vertical-align: top;\n",
       "    }\n",
       "\n",
       "    .dataframe thead th {\n",
       "        text-align: right;\n",
       "    }\n",
       "</style>\n",
       "<table border=\"1\" class=\"dataframe\">\n",
       "  <thead>\n",
       "    <tr style=\"text-align: right;\">\n",
       "      <th></th>\n",
       "      <th>3P%</th>\n",
       "      <th>3P</th>\n",
       "      <th>3PA</th>\n",
       "    </tr>\n",
       "  </thead>\n",
       "  <tbody>\n",
       "    <tr>\n",
       "      <th>0</th>\n",
       "      <td>0.000</td>\n",
       "      <td>0</td>\n",
       "      <td>0</td>\n",
       "    </tr>\n",
       "    <tr>\n",
       "      <th>3</th>\n",
       "      <td>0.050</td>\n",
       "      <td>2</td>\n",
       "      <td>6</td>\n",
       "    </tr>\n",
       "    <tr>\n",
       "      <th>8</th>\n",
       "      <td>0.050</td>\n",
       "      <td>4</td>\n",
       "      <td>8</td>\n",
       "    </tr>\n",
       "    <tr>\n",
       "      <th>9</th>\n",
       "      <td>0.000</td>\n",
       "      <td>0</td>\n",
       "      <td>0</td>\n",
       "    </tr>\n",
       "    <tr>\n",
       "      <th>14</th>\n",
       "      <td>0.000</td>\n",
       "      <td>0</td>\n",
       "      <td>0</td>\n",
       "    </tr>\n",
       "    <tr>\n",
       "      <th>23</th>\n",
       "      <td>0.000</td>\n",
       "      <td>0</td>\n",
       "      <td>0</td>\n",
       "    </tr>\n",
       "    <tr>\n",
       "      <th>25</th>\n",
       "      <td>0.730</td>\n",
       "      <td>34</td>\n",
       "      <td>92</td>\n",
       "    </tr>\n",
       "    <tr>\n",
       "      <th>45</th>\n",
       "      <td>0.000</td>\n",
       "      <td>0</td>\n",
       "      <td>0</td>\n",
       "    </tr>\n",
       "    <tr>\n",
       "      <th>55</th>\n",
       "      <td>0.000</td>\n",
       "      <td>0</td>\n",
       "      <td>0</td>\n",
       "    </tr>\n",
       "    <tr>\n",
       "      <th>56</th>\n",
       "      <td>0.313</td>\n",
       "      <td>10</td>\n",
       "      <td>32</td>\n",
       "    </tr>\n",
       "    <tr>\n",
       "      <th>60</th>\n",
       "      <td>0.000</td>\n",
       "      <td>0</td>\n",
       "      <td>0</td>\n",
       "    </tr>\n",
       "    <tr>\n",
       "      <th>64</th>\n",
       "      <td>0.000</td>\n",
       "      <td>0</td>\n",
       "      <td>0</td>\n",
       "    </tr>\n",
       "    <tr>\n",
       "      <th>71</th>\n",
       "      <td>0.000</td>\n",
       "      <td>0</td>\n",
       "      <td>0</td>\n",
       "    </tr>\n",
       "    <tr>\n",
       "      <th>81</th>\n",
       "      <td>0.000</td>\n",
       "      <td>0</td>\n",
       "      <td>0</td>\n",
       "    </tr>\n",
       "    <tr>\n",
       "      <th>85</th>\n",
       "      <td>0.000</td>\n",
       "      <td>0</td>\n",
       "      <td>0</td>\n",
       "    </tr>\n",
       "    <tr>\n",
       "      <th>103</th>\n",
       "      <td>0.000</td>\n",
       "      <td>0</td>\n",
       "      <td>0</td>\n",
       "    </tr>\n",
       "    <tr>\n",
       "      <th>112</th>\n",
       "      <td>0.000</td>\n",
       "      <td>0</td>\n",
       "      <td>0</td>\n",
       "    </tr>\n",
       "    <tr>\n",
       "      <th>122</th>\n",
       "      <td>0.000</td>\n",
       "      <td>0</td>\n",
       "      <td>0</td>\n",
       "    </tr>\n",
       "    <tr>\n",
       "      <th>135</th>\n",
       "      <td>0.000</td>\n",
       "      <td>0</td>\n",
       "      <td>0</td>\n",
       "    </tr>\n",
       "    <tr>\n",
       "      <th>137</th>\n",
       "      <td>0.000</td>\n",
       "      <td>0</td>\n",
       "      <td>0</td>\n",
       "    </tr>\n",
       "    <tr>\n",
       "      <th>139</th>\n",
       "      <td>0.000</td>\n",
       "      <td>0</td>\n",
       "      <td>0</td>\n",
       "    </tr>\n",
       "    <tr>\n",
       "      <th>152</th>\n",
       "      <td>0.000</td>\n",
       "      <td>0</td>\n",
       "      <td>0</td>\n",
       "    </tr>\n",
       "    <tr>\n",
       "      <th>178</th>\n",
       "      <td>0.000</td>\n",
       "      <td>0</td>\n",
       "      <td>0</td>\n",
       "    </tr>\n",
       "    <tr>\n",
       "      <th>187</th>\n",
       "      <td>0.000</td>\n",
       "      <td>0</td>\n",
       "      <td>0</td>\n",
       "    </tr>\n",
       "    <tr>\n",
       "      <th>190</th>\n",
       "      <td>0.000</td>\n",
       "      <td>0</td>\n",
       "      <td>0</td>\n",
       "    </tr>\n",
       "    <tr>\n",
       "      <th>195</th>\n",
       "      <td>0.000</td>\n",
       "      <td>0</td>\n",
       "      <td>0</td>\n",
       "    </tr>\n",
       "    <tr>\n",
       "      <th>196</th>\n",
       "      <td>0.000</td>\n",
       "      <td>0</td>\n",
       "      <td>0</td>\n",
       "    </tr>\n",
       "    <tr>\n",
       "      <th>243</th>\n",
       "      <td>0.000</td>\n",
       "      <td>0</td>\n",
       "      <td>0</td>\n",
       "    </tr>\n",
       "    <tr>\n",
       "      <th>252</th>\n",
       "      <td>0.000</td>\n",
       "      <td>0</td>\n",
       "      <td>0</td>\n",
       "    </tr>\n",
       "    <tr>\n",
       "      <th>304</th>\n",
       "      <td>0.000</td>\n",
       "      <td>0</td>\n",
       "      <td>0</td>\n",
       "    </tr>\n",
       "    <tr>\n",
       "      <th>362</th>\n",
       "      <td>0.313</td>\n",
       "      <td>35</td>\n",
       "      <td>112</td>\n",
       "    </tr>\n",
       "    <tr>\n",
       "      <th>376</th>\n",
       "      <td>0.000</td>\n",
       "      <td>0</td>\n",
       "      <td>0</td>\n",
       "    </tr>\n",
       "    <tr>\n",
       "      <th>377</th>\n",
       "      <td>0.000</td>\n",
       "      <td>0</td>\n",
       "      <td>0</td>\n",
       "    </tr>\n",
       "    <tr>\n",
       "      <th>378</th>\n",
       "      <td>0.000</td>\n",
       "      <td>0</td>\n",
       "      <td>0</td>\n",
       "    </tr>\n",
       "    <tr>\n",
       "      <th>382</th>\n",
       "      <td>0.000</td>\n",
       "      <td>0</td>\n",
       "      <td>0</td>\n",
       "    </tr>\n",
       "    <tr>\n",
       "      <th>383</th>\n",
       "      <td>0.000</td>\n",
       "      <td>0</td>\n",
       "      <td>0</td>\n",
       "    </tr>\n",
       "    <tr>\n",
       "      <th>404</th>\n",
       "      <td>0.000</td>\n",
       "      <td>0</td>\n",
       "      <td>0</td>\n",
       "    </tr>\n",
       "    <tr>\n",
       "      <th>411</th>\n",
       "      <td>0.000</td>\n",
       "      <td>0</td>\n",
       "      <td>0</td>\n",
       "    </tr>\n",
       "  </tbody>\n",
       "</table>\n",
       "</div>"
      ],
      "text/plain": [
       "       3P%  3P  3PA\n",
       "0    0.000   0    0\n",
       "3    0.050   2    6\n",
       "8    0.050   4    8\n",
       "9    0.000   0    0\n",
       "14   0.000   0    0\n",
       "23   0.000   0    0\n",
       "25   0.730  34   92\n",
       "45   0.000   0    0\n",
       "55   0.000   0    0\n",
       "56   0.313  10   32\n",
       "60   0.000   0    0\n",
       "64   0.000   0    0\n",
       "71   0.000   0    0\n",
       "81   0.000   0    0\n",
       "85   0.000   0    0\n",
       "103  0.000   0    0\n",
       "112  0.000   0    0\n",
       "122  0.000   0    0\n",
       "135  0.000   0    0\n",
       "137  0.000   0    0\n",
       "139  0.000   0    0\n",
       "152  0.000   0    0\n",
       "178  0.000   0    0\n",
       "187  0.000   0    0\n",
       "190  0.000   0    0\n",
       "195  0.000   0    0\n",
       "196  0.000   0    0\n",
       "243  0.000   0    0\n",
       "252  0.000   0    0\n",
       "304  0.000   0    0\n",
       "362  0.313  35  112\n",
       "376  0.000   0    0\n",
       "377  0.000   0    0\n",
       "378  0.000   0    0\n",
       "382  0.000   0    0\n",
       "383  0.000   0    0\n",
       "404  0.000   0    0\n",
       "411  0.000   0    0"
      ]
     },
     "execution_count": 33,
     "metadata": {},
     "output_type": "execute_result"
    }
   ],
   "source": [
    "# checking for calculation errors\n",
    "mask_3Pper= nba['3P%'].round(3) != (nba['3P']/nba['3PA']).round(3)\n",
    "nba.loc[mask_3Pper, ['3P%', '3P', '3PA']]"
   ]
  },
  {
   "cell_type": "code",
   "execution_count": 34,
   "metadata": {},
   "outputs": [
    {
     "data": {
      "text/html": [
       "<div>\n",
       "<style scoped>\n",
       "    .dataframe tbody tr th:only-of-type {\n",
       "        vertical-align: middle;\n",
       "    }\n",
       "\n",
       "    .dataframe tbody tr th {\n",
       "        vertical-align: top;\n",
       "    }\n",
       "\n",
       "    .dataframe thead th {\n",
       "        text-align: right;\n",
       "    }\n",
       "</style>\n",
       "<table border=\"1\" class=\"dataframe\">\n",
       "  <thead>\n",
       "    <tr style=\"text-align: right;\">\n",
       "      <th></th>\n",
       "      <th>3P%</th>\n",
       "      <th>3P/3PA</th>\n",
       "      <th>3P</th>\n",
       "      <th>3PA</th>\n",
       "    </tr>\n",
       "  </thead>\n",
       "  <tbody>\n",
       "    <tr>\n",
       "      <th>0</th>\n",
       "      <td>0.000</td>\n",
       "      <td>NaN</td>\n",
       "      <td>0</td>\n",
       "      <td>0</td>\n",
       "    </tr>\n",
       "    <tr>\n",
       "      <th>3</th>\n",
       "      <td>0.050</td>\n",
       "      <td>0.333</td>\n",
       "      <td>2</td>\n",
       "      <td>6</td>\n",
       "    </tr>\n",
       "    <tr>\n",
       "      <th>8</th>\n",
       "      <td>0.050</td>\n",
       "      <td>0.500</td>\n",
       "      <td>4</td>\n",
       "      <td>8</td>\n",
       "    </tr>\n",
       "    <tr>\n",
       "      <th>9</th>\n",
       "      <td>0.000</td>\n",
       "      <td>NaN</td>\n",
       "      <td>0</td>\n",
       "      <td>0</td>\n",
       "    </tr>\n",
       "    <tr>\n",
       "      <th>14</th>\n",
       "      <td>0.000</td>\n",
       "      <td>NaN</td>\n",
       "      <td>0</td>\n",
       "      <td>0</td>\n",
       "    </tr>\n",
       "    <tr>\n",
       "      <th>23</th>\n",
       "      <td>0.000</td>\n",
       "      <td>NaN</td>\n",
       "      <td>0</td>\n",
       "      <td>0</td>\n",
       "    </tr>\n",
       "    <tr>\n",
       "      <th>25</th>\n",
       "      <td>0.730</td>\n",
       "      <td>0.370</td>\n",
       "      <td>34</td>\n",
       "      <td>92</td>\n",
       "    </tr>\n",
       "    <tr>\n",
       "      <th>45</th>\n",
       "      <td>0.000</td>\n",
       "      <td>NaN</td>\n",
       "      <td>0</td>\n",
       "      <td>0</td>\n",
       "    </tr>\n",
       "    <tr>\n",
       "      <th>55</th>\n",
       "      <td>0.000</td>\n",
       "      <td>NaN</td>\n",
       "      <td>0</td>\n",
       "      <td>0</td>\n",
       "    </tr>\n",
       "    <tr>\n",
       "      <th>56</th>\n",
       "      <td>0.313</td>\n",
       "      <td>0.312</td>\n",
       "      <td>10</td>\n",
       "      <td>32</td>\n",
       "    </tr>\n",
       "    <tr>\n",
       "      <th>60</th>\n",
       "      <td>0.000</td>\n",
       "      <td>NaN</td>\n",
       "      <td>0</td>\n",
       "      <td>0</td>\n",
       "    </tr>\n",
       "    <tr>\n",
       "      <th>64</th>\n",
       "      <td>0.000</td>\n",
       "      <td>NaN</td>\n",
       "      <td>0</td>\n",
       "      <td>0</td>\n",
       "    </tr>\n",
       "    <tr>\n",
       "      <th>71</th>\n",
       "      <td>0.000</td>\n",
       "      <td>NaN</td>\n",
       "      <td>0</td>\n",
       "      <td>0</td>\n",
       "    </tr>\n",
       "    <tr>\n",
       "      <th>81</th>\n",
       "      <td>0.000</td>\n",
       "      <td>NaN</td>\n",
       "      <td>0</td>\n",
       "      <td>0</td>\n",
       "    </tr>\n",
       "    <tr>\n",
       "      <th>85</th>\n",
       "      <td>0.000</td>\n",
       "      <td>NaN</td>\n",
       "      <td>0</td>\n",
       "      <td>0</td>\n",
       "    </tr>\n",
       "    <tr>\n",
       "      <th>103</th>\n",
       "      <td>0.000</td>\n",
       "      <td>NaN</td>\n",
       "      <td>0</td>\n",
       "      <td>0</td>\n",
       "    </tr>\n",
       "    <tr>\n",
       "      <th>112</th>\n",
       "      <td>0.000</td>\n",
       "      <td>NaN</td>\n",
       "      <td>0</td>\n",
       "      <td>0</td>\n",
       "    </tr>\n",
       "    <tr>\n",
       "      <th>122</th>\n",
       "      <td>0.000</td>\n",
       "      <td>NaN</td>\n",
       "      <td>0</td>\n",
       "      <td>0</td>\n",
       "    </tr>\n",
       "    <tr>\n",
       "      <th>135</th>\n",
       "      <td>0.000</td>\n",
       "      <td>NaN</td>\n",
       "      <td>0</td>\n",
       "      <td>0</td>\n",
       "    </tr>\n",
       "    <tr>\n",
       "      <th>137</th>\n",
       "      <td>0.000</td>\n",
       "      <td>NaN</td>\n",
       "      <td>0</td>\n",
       "      <td>0</td>\n",
       "    </tr>\n",
       "    <tr>\n",
       "      <th>139</th>\n",
       "      <td>0.000</td>\n",
       "      <td>NaN</td>\n",
       "      <td>0</td>\n",
       "      <td>0</td>\n",
       "    </tr>\n",
       "    <tr>\n",
       "      <th>152</th>\n",
       "      <td>0.000</td>\n",
       "      <td>NaN</td>\n",
       "      <td>0</td>\n",
       "      <td>0</td>\n",
       "    </tr>\n",
       "    <tr>\n",
       "      <th>178</th>\n",
       "      <td>0.000</td>\n",
       "      <td>NaN</td>\n",
       "      <td>0</td>\n",
       "      <td>0</td>\n",
       "    </tr>\n",
       "    <tr>\n",
       "      <th>187</th>\n",
       "      <td>0.000</td>\n",
       "      <td>NaN</td>\n",
       "      <td>0</td>\n",
       "      <td>0</td>\n",
       "    </tr>\n",
       "    <tr>\n",
       "      <th>190</th>\n",
       "      <td>0.000</td>\n",
       "      <td>NaN</td>\n",
       "      <td>0</td>\n",
       "      <td>0</td>\n",
       "    </tr>\n",
       "    <tr>\n",
       "      <th>195</th>\n",
       "      <td>0.000</td>\n",
       "      <td>NaN</td>\n",
       "      <td>0</td>\n",
       "      <td>0</td>\n",
       "    </tr>\n",
       "    <tr>\n",
       "      <th>196</th>\n",
       "      <td>0.000</td>\n",
       "      <td>NaN</td>\n",
       "      <td>0</td>\n",
       "      <td>0</td>\n",
       "    </tr>\n",
       "    <tr>\n",
       "      <th>243</th>\n",
       "      <td>0.000</td>\n",
       "      <td>NaN</td>\n",
       "      <td>0</td>\n",
       "      <td>0</td>\n",
       "    </tr>\n",
       "    <tr>\n",
       "      <th>252</th>\n",
       "      <td>0.000</td>\n",
       "      <td>NaN</td>\n",
       "      <td>0</td>\n",
       "      <td>0</td>\n",
       "    </tr>\n",
       "    <tr>\n",
       "      <th>304</th>\n",
       "      <td>0.000</td>\n",
       "      <td>NaN</td>\n",
       "      <td>0</td>\n",
       "      <td>0</td>\n",
       "    </tr>\n",
       "    <tr>\n",
       "      <th>362</th>\n",
       "      <td>0.313</td>\n",
       "      <td>0.312</td>\n",
       "      <td>35</td>\n",
       "      <td>112</td>\n",
       "    </tr>\n",
       "    <tr>\n",
       "      <th>376</th>\n",
       "      <td>0.000</td>\n",
       "      <td>NaN</td>\n",
       "      <td>0</td>\n",
       "      <td>0</td>\n",
       "    </tr>\n",
       "    <tr>\n",
       "      <th>377</th>\n",
       "      <td>0.000</td>\n",
       "      <td>NaN</td>\n",
       "      <td>0</td>\n",
       "      <td>0</td>\n",
       "    </tr>\n",
       "    <tr>\n",
       "      <th>378</th>\n",
       "      <td>0.000</td>\n",
       "      <td>NaN</td>\n",
       "      <td>0</td>\n",
       "      <td>0</td>\n",
       "    </tr>\n",
       "    <tr>\n",
       "      <th>382</th>\n",
       "      <td>0.000</td>\n",
       "      <td>NaN</td>\n",
       "      <td>0</td>\n",
       "      <td>0</td>\n",
       "    </tr>\n",
       "    <tr>\n",
       "      <th>383</th>\n",
       "      <td>0.000</td>\n",
       "      <td>NaN</td>\n",
       "      <td>0</td>\n",
       "      <td>0</td>\n",
       "    </tr>\n",
       "    <tr>\n",
       "      <th>404</th>\n",
       "      <td>0.000</td>\n",
       "      <td>NaN</td>\n",
       "      <td>0</td>\n",
       "      <td>0</td>\n",
       "    </tr>\n",
       "    <tr>\n",
       "      <th>411</th>\n",
       "      <td>0.000</td>\n",
       "      <td>NaN</td>\n",
       "      <td>0</td>\n",
       "      <td>0</td>\n",
       "    </tr>\n",
       "  </tbody>\n",
       "</table>\n",
       "</div>"
      ],
      "text/plain": [
       "       3P%  3P/3PA  3P  3PA\n",
       "0    0.000     NaN   0    0\n",
       "3    0.050   0.333   2    6\n",
       "8    0.050   0.500   4    8\n",
       "9    0.000     NaN   0    0\n",
       "14   0.000     NaN   0    0\n",
       "23   0.000     NaN   0    0\n",
       "25   0.730   0.370  34   92\n",
       "45   0.000     NaN   0    0\n",
       "55   0.000     NaN   0    0\n",
       "56   0.313   0.312  10   32\n",
       "60   0.000     NaN   0    0\n",
       "64   0.000     NaN   0    0\n",
       "71   0.000     NaN   0    0\n",
       "81   0.000     NaN   0    0\n",
       "85   0.000     NaN   0    0\n",
       "103  0.000     NaN   0    0\n",
       "112  0.000     NaN   0    0\n",
       "122  0.000     NaN   0    0\n",
       "135  0.000     NaN   0    0\n",
       "137  0.000     NaN   0    0\n",
       "139  0.000     NaN   0    0\n",
       "152  0.000     NaN   0    0\n",
       "178  0.000     NaN   0    0\n",
       "187  0.000     NaN   0    0\n",
       "190  0.000     NaN   0    0\n",
       "195  0.000     NaN   0    0\n",
       "196  0.000     NaN   0    0\n",
       "243  0.000     NaN   0    0\n",
       "252  0.000     NaN   0    0\n",
       "304  0.000     NaN   0    0\n",
       "362  0.313   0.312  35  112\n",
       "376  0.000     NaN   0    0\n",
       "377  0.000     NaN   0    0\n",
       "378  0.000     NaN   0    0\n",
       "382  0.000     NaN   0    0\n",
       "383  0.000     NaN   0    0\n",
       "404  0.000     NaN   0    0\n",
       "411  0.000     NaN   0    0"
      ]
     },
     "execution_count": 34,
     "metadata": {},
     "output_type": "execute_result"
    }
   ],
   "source": [
    "# sanity check-calculation errors\n",
    "calculation = nba.loc[mask_3Pper, ['3P%', '3P', '3PA']].copy() # extract missmatched-calculation, save them in a new dataset\n",
    "calculation['3P/3PA'] = (nba['3P']/nba['3PA']).round(3)\n",
    "calculation[['3P%', '3P/3PA','3P', '3PA']]"
   ]
  },
  {
   "cell_type": "code",
   "execution_count": 35,
   "metadata": {
    "scrolled": true
   },
   "outputs": [],
   "source": [
    "# fill nan in missmatched-calculation data by 0\n",
    "calculation.fillna(0, inplace=True) "
   ]
  },
  {
   "cell_type": "code",
   "execution_count": 36,
   "metadata": {},
   "outputs": [
    {
     "data": {
      "text/plain": [
       "False    35\n",
       "True      3\n",
       "dtype: int64"
      ]
     },
     "execution_count": 36,
     "metadata": {},
     "output_type": "execute_result"
    }
   ],
   "source": [
    "# finding the calculation error \n",
    "# round up to 2 decimals in 3P% and 3P/3PA\n",
    "mask_calculation_round2 = calculation['3P/3PA'].round(2) != calculation['3P%'].round(2) \n",
    "mask_calculation_round2.value_counts()"
   ]
  },
  {
   "cell_type": "code",
   "execution_count": 37,
   "metadata": {},
   "outputs": [
    {
     "data": {
      "text/plain": [
       "Text(0.5, 0, 'number of values')"
      ]
     },
     "execution_count": 37,
     "metadata": {},
     "output_type": "execute_result"
    },
    {
     "data": {
      "image/png": "[encoded data removed]",
      "text/plain": [
       "<Figure size 432x288 with 1 Axes>"
      ]
     },
     "metadata": {
      "needs_background": "light"
     },
     "output_type": "display_data"
    }
   ],
   "source": [
    "# visualizing calculation errors\n",
    "data_3Pper = len(nba['3P%'])\n",
    "errors = len(calculation.loc[mask_calculation_round2, '3P%'])\n",
    "label = ['correct', 'incorrect'] # values of columns are the length of lists\n",
    "values = [data_3Pper - errors, errors]\n",
    "fig, ax = plt.subplots() \n",
    "ax.barh(label, values, color=['lightblue', 'red'])\n",
    "for i, v in enumerate(values): # label values for each column\n",
    "    ax.text(v , i,str(v), \n",
    "            color = 'blue')\n",
    "plt.title('Bar chart for calculation errors in 3P%')\n",
    "plt.xlabel('number of values')"
   ]
  },
  {
   "cell_type": "code",
   "execution_count": 38,
   "metadata": {},
   "outputs": [
    {
     "data": {
      "text/html": [
       "<div>\n",
       "<style scoped>\n",
       "    .dataframe tbody tr th:only-of-type {\n",
       "        vertical-align: middle;\n",
       "    }\n",
       "\n",
       "    .dataframe tbody tr th {\n",
       "        vertical-align: top;\n",
       "    }\n",
       "\n",
       "    .dataframe thead th {\n",
       "        text-align: right;\n",
       "    }\n",
       "</style>\n",
       "<table border=\"1\" class=\"dataframe\">\n",
       "  <thead>\n",
       "    <tr style=\"text-align: right;\">\n",
       "      <th></th>\n",
       "      <th>3P%</th>\n",
       "      <th>3P/3PA</th>\n",
       "      <th>3P</th>\n",
       "      <th>3PA</th>\n",
       "    </tr>\n",
       "  </thead>\n",
       "  <tbody>\n",
       "    <tr>\n",
       "      <th>3</th>\n",
       "      <td>0.05</td>\n",
       "      <td>0.333</td>\n",
       "      <td>2</td>\n",
       "      <td>6</td>\n",
       "    </tr>\n",
       "    <tr>\n",
       "      <th>8</th>\n",
       "      <td>0.05</td>\n",
       "      <td>0.500</td>\n",
       "      <td>4</td>\n",
       "      <td>8</td>\n",
       "    </tr>\n",
       "    <tr>\n",
       "      <th>25</th>\n",
       "      <td>0.73</td>\n",
       "      <td>0.370</td>\n",
       "      <td>34</td>\n",
       "      <td>92</td>\n",
       "    </tr>\n",
       "  </tbody>\n",
       "</table>\n",
       "</div>"
      ],
      "text/plain": [
       "     3P%  3P/3PA  3P  3PA\n",
       "3   0.05   0.333   2    6\n",
       "8   0.05   0.500   4    8\n",
       "25  0.73   0.370  34   92"
      ]
     },
     "execution_count": 38,
     "metadata": {},
     "output_type": "execute_result"
    }
   ],
   "source": [
    "# checking calculation errors by round up to 2 decimals\n",
    "mask_calculation_round2\n",
    "calculation.loc[mask_calculation_round2, ['3P%', '3P/3PA','3P', '3PA']]"
   ]
  },
  {
   "cell_type": "code",
   "execution_count": 39,
   "metadata": {},
   "outputs": [
    {
     "data": {
      "text/html": [
       "<div>\n",
       "<style scoped>\n",
       "    .dataframe tbody tr th:only-of-type {\n",
       "        vertical-align: middle;\n",
       "    }\n",
       "\n",
       "    .dataframe tbody tr th {\n",
       "        vertical-align: top;\n",
       "    }\n",
       "\n",
       "    .dataframe thead th {\n",
       "        text-align: right;\n",
       "    }\n",
       "</style>\n",
       "<table border=\"1\" class=\"dataframe\">\n",
       "  <thead>\n",
       "    <tr style=\"text-align: right;\">\n",
       "      <th></th>\n",
       "      <th>3P%</th>\n",
       "      <th>3P</th>\n",
       "      <th>3PA</th>\n",
       "    </tr>\n",
       "  </thead>\n",
       "  <tbody>\n",
       "    <tr>\n",
       "      <th>3</th>\n",
       "      <td>0.333</td>\n",
       "      <td>2</td>\n",
       "      <td>6</td>\n",
       "    </tr>\n",
       "    <tr>\n",
       "      <th>8</th>\n",
       "      <td>0.500</td>\n",
       "      <td>4</td>\n",
       "      <td>8</td>\n",
       "    </tr>\n",
       "    <tr>\n",
       "      <th>25</th>\n",
       "      <td>0.370</td>\n",
       "      <td>34</td>\n",
       "      <td>92</td>\n",
       "    </tr>\n",
       "  </tbody>\n",
       "</table>\n",
       "</div>"
      ],
      "text/plain": [
       "      3P%  3P  3PA\n",
       "3   0.333   2    6\n",
       "8   0.500   4    8\n",
       "25  0.370  34   92"
      ]
     },
     "execution_count": 39,
     "metadata": {},
     "output_type": "execute_result"
    }
   ],
   "source": [
    "# fix the calculation errors\n",
    "nba.loc[3, '3P%'] = (nba.loc[3, '3P']/nba.loc[3, '3PA']).round(3)\n",
    "nba.loc[8, '3P%'] = (nba.loc[8, '3P']/nba.loc[8, '3PA']).round(3)\n",
    "nba.loc[25, '3P%'] = (nba.loc[25, '3P']/nba.loc[25, '3PA']).round(3)\n",
    "nba.loc[[3,8,25], ['3P%', '3P', '3PA']]"
   ]
  },
  {
   "cell_type": "markdown",
   "metadata": {},
   "source": [
    "1.17 2P%"
   ]
  },
  {
   "cell_type": "code",
   "execution_count": 40,
   "metadata": {},
   "outputs": [
    {
     "name": "stdout",
     "output_type": "stream",
     "text": [
      "False    505\n",
      "True       7\n",
      "Name: 2P%, dtype: int64\n",
      "There are 7 missing values in 2P%\n"
     ]
    }
   ],
   "source": [
    "# missing value\n",
    "print(nba['2P%'].isna().value_counts())\n",
    "\n",
    "print('There are 7 missing values in 2P%')"
   ]
  },
  {
   "cell_type": "code",
   "execution_count": 41,
   "metadata": {
    "scrolled": true
   },
   "outputs": [
    {
     "data": {
      "text/html": [
       "<div>\n",
       "<style scoped>\n",
       "    .dataframe tbody tr th:only-of-type {\n",
       "        vertical-align: middle;\n",
       "    }\n",
       "\n",
       "    .dataframe tbody tr th {\n",
       "        vertical-align: top;\n",
       "    }\n",
       "\n",
       "    .dataframe thead th {\n",
       "        text-align: right;\n",
       "    }\n",
       "</style>\n",
       "<table border=\"1\" class=\"dataframe\">\n",
       "  <thead>\n",
       "    <tr style=\"text-align: right;\">\n",
       "      <th></th>\n",
       "      <th>2P%</th>\n",
       "      <th>2P</th>\n",
       "      <th>2PA</th>\n",
       "    </tr>\n",
       "  </thead>\n",
       "  <tbody>\n",
       "    <tr>\n",
       "      <th>178</th>\n",
       "      <td>NaN</td>\n",
       "      <td>0</td>\n",
       "      <td>0</td>\n",
       "    </tr>\n",
       "    <tr>\n",
       "      <th>190</th>\n",
       "      <td>NaN</td>\n",
       "      <td>0</td>\n",
       "      <td>0</td>\n",
       "    </tr>\n",
       "    <tr>\n",
       "      <th>274</th>\n",
       "      <td>NaN</td>\n",
       "      <td>0</td>\n",
       "      <td>0</td>\n",
       "    </tr>\n",
       "    <tr>\n",
       "      <th>304</th>\n",
       "      <td>NaN</td>\n",
       "      <td>0</td>\n",
       "      <td>0</td>\n",
       "    </tr>\n",
       "    <tr>\n",
       "      <th>370</th>\n",
       "      <td>NaN</td>\n",
       "      <td>0</td>\n",
       "      <td>0</td>\n",
       "    </tr>\n",
       "    <tr>\n",
       "      <th>435</th>\n",
       "      <td>NaN</td>\n",
       "      <td>0</td>\n",
       "      <td>0</td>\n",
       "    </tr>\n",
       "    <tr>\n",
       "      <th>492</th>\n",
       "      <td>NaN</td>\n",
       "      <td>0</td>\n",
       "      <td>0</td>\n",
       "    </tr>\n",
       "  </tbody>\n",
       "</table>\n",
       "</div>"
      ],
      "text/plain": [
       "     2P%  2P  2PA\n",
       "178  NaN   0    0\n",
       "190  NaN   0    0\n",
       "274  NaN   0    0\n",
       "304  NaN   0    0\n",
       "370  NaN   0    0\n",
       "435  NaN   0    0\n",
       "492  NaN   0    0"
      ]
     },
     "execution_count": 41,
     "metadata": {},
     "output_type": "execute_result"
    }
   ],
   "source": [
    "nba.loc[nba['2P%'].isna(), ['2P%', '2P', '2PA']]"
   ]
  },
  {
   "cell_type": "code",
   "execution_count": 42,
   "metadata": {},
   "outputs": [
    {
     "data": {
      "text/plain": [
       "False    512\n",
       "Name: 2P%, dtype: int64"
      ]
     },
     "execution_count": 42,
     "metadata": {},
     "output_type": "execute_result"
    }
   ],
   "source": [
    "# fill nan by 0\n",
    "nba['2P%'].fillna(0, inplace=True)\n",
    "nba['2P%'].isna().value_counts()"
   ]
  },
  {
   "cell_type": "code",
   "execution_count": 43,
   "metadata": {},
   "outputs": [
    {
     "name": "stdout",
     "output_type": "stream",
     "text": [
      "there is no calculation error in 2P%\n"
     ]
    }
   ],
   "source": [
    "# sanity check-calculation error\n",
    "mask_2Pper =nba['2P%'].round(3) != (nba['2P']/nba['2PA']).round(3)\n",
    "nba.loc[mask_2Pper , ['2P%', '2P', '2PA']]\n",
    "print('there is no calculation error in 2P%')"
   ]
  },
  {
   "cell_type": "markdown",
   "metadata": {},
   "source": [
    "1.18 FT"
   ]
  },
  {
   "cell_type": "code",
   "execution_count": 44,
   "metadata": {},
   "outputs": [
    {
     "data": {
      "image/png": "[encoded data removed]",
      "text/plain": [
       "<Figure size 432x288 with 1 Axes>"
      ]
     },
     "metadata": {
      "needs_background": "light"
     },
     "output_type": "display_data"
    },
    {
     "name": "stdout",
     "output_type": "stream",
     "text": [
      "There is no value out of range in FT\n"
     ]
    }
   ],
   "source": [
    "# sanity check-outlier\n",
    "nba['FT'].plot.hist(title='Histogram of FT')\n",
    "plt.xlabel('Points')\n",
    "plt.show()\n",
    "print('There is no value out of range in FT')"
   ]
  },
  {
   "cell_type": "markdown",
   "metadata": {},
   "source": [
    "1.19 FTA"
   ]
  },
  {
   "cell_type": "code",
   "execution_count": 45,
   "metadata": {},
   "outputs": [
    {
     "data": {
      "image/png": "[encoded data removed]",
      "text/plain": [
       "<Figure size 432x288 with 1 Axes>"
      ]
     },
     "metadata": {
      "needs_background": "light"
     },
     "output_type": "display_data"
    },
    {
     "name": "stdout",
     "output_type": "stream",
     "text": [
      "There is no value out of range\n",
      "                    Player  FTA\n",
      "13   Giannis Antetokounmpo  363\n",
      "133            Joel Embiid  348\n",
      "509             Trae Young  328\n"
     ]
    }
   ],
   "source": [
    "# sanity check - outlier\n",
    "nba['FTA'].plot.hist(title='Histogram of FTA')\n",
    "plt.xlabel('Attempts')\n",
    "plt.show()\n",
    "print('There is no value out of range')\n",
    "print(nba.loc[nba['FTA'] > 300, ['Player', 'FTA']])"
   ]
  },
  {
   "cell_type": "markdown",
   "metadata": {},
   "source": [
    "1.20 FT%"
   ]
  },
  {
   "cell_type": "code",
   "execution_count": 46,
   "metadata": {},
   "outputs": [
    {
     "name": "stdout",
     "output_type": "stream",
     "text": [
      "False    480\n",
      "True      32\n",
      "Name: FT%, dtype: int64\n",
      "There are 32 missing values in FT%\n"
     ]
    }
   ],
   "source": [
    "# checking missing value\n",
    "print(nba['FT%'].isna().value_counts())\n",
    "\n",
    "print('There are 32 missing values in FT%')"
   ]
  },
  {
   "cell_type": "code",
   "execution_count": 47,
   "metadata": {},
   "outputs": [
    {
     "data": {
      "text/html": [
       "<div>\n",
       "<style scoped>\n",
       "    .dataframe tbody tr th:only-of-type {\n",
       "        vertical-align: middle;\n",
       "    }\n",
       "\n",
       "    .dataframe tbody tr th {\n",
       "        vertical-align: top;\n",
       "    }\n",
       "\n",
       "    .dataframe thead th {\n",
       "        text-align: right;\n",
       "    }\n",
       "</style>\n",
       "<table border=\"1\" class=\"dataframe\">\n",
       "  <thead>\n",
       "    <tr style=\"text-align: right;\">\n",
       "      <th></th>\n",
       "      <th>FT%</th>\n",
       "      <th>FT</th>\n",
       "      <th>FTA</th>\n",
       "    </tr>\n",
       "  </thead>\n",
       "  <tbody>\n",
       "    <tr>\n",
       "      <th>1</th>\n",
       "      <td>NaN</td>\n",
       "      <td>0</td>\n",
       "      <td>0</td>\n",
       "    </tr>\n",
       "    <tr>\n",
       "      <th>5</th>\n",
       "      <td>NaN</td>\n",
       "      <td>0</td>\n",
       "      <td>0</td>\n",
       "    </tr>\n",
       "    <tr>\n",
       "      <th>40</th>\n",
       "      <td>NaN</td>\n",
       "      <td>0</td>\n",
       "      <td>0</td>\n",
       "    </tr>\n",
       "    <tr>\n",
       "      <th>51</th>\n",
       "      <td>NaN</td>\n",
       "      <td>0</td>\n",
       "      <td>0</td>\n",
       "    </tr>\n",
       "    <tr>\n",
       "      <th>56</th>\n",
       "      <td>NaN</td>\n",
       "      <td>0</td>\n",
       "      <td>0</td>\n",
       "    </tr>\n",
       "    <tr>\n",
       "      <th>63</th>\n",
       "      <td>NaN</td>\n",
       "      <td>0</td>\n",
       "      <td>0</td>\n",
       "    </tr>\n",
       "    <tr>\n",
       "      <th>103</th>\n",
       "      <td>NaN</td>\n",
       "      <td>0</td>\n",
       "      <td>0</td>\n",
       "    </tr>\n",
       "    <tr>\n",
       "      <th>122</th>\n",
       "      <td>NaN</td>\n",
       "      <td>0</td>\n",
       "      <td>0</td>\n",
       "    </tr>\n",
       "    <tr>\n",
       "      <th>127</th>\n",
       "      <td>NaN</td>\n",
       "      <td>0</td>\n",
       "      <td>0</td>\n",
       "    </tr>\n",
       "    <tr>\n",
       "      <th>140</th>\n",
       "      <td>NaN</td>\n",
       "      <td>0</td>\n",
       "      <td>0</td>\n",
       "    </tr>\n",
       "    <tr>\n",
       "      <th>149</th>\n",
       "      <td>NaN</td>\n",
       "      <td>0</td>\n",
       "      <td>0</td>\n",
       "    </tr>\n",
       "    <tr>\n",
       "      <th>151</th>\n",
       "      <td>NaN</td>\n",
       "      <td>0</td>\n",
       "      <td>0</td>\n",
       "    </tr>\n",
       "    <tr>\n",
       "      <th>178</th>\n",
       "      <td>NaN</td>\n",
       "      <td>0</td>\n",
       "      <td>0</td>\n",
       "    </tr>\n",
       "    <tr>\n",
       "      <th>190</th>\n",
       "      <td>NaN</td>\n",
       "      <td>0</td>\n",
       "      <td>0</td>\n",
       "    </tr>\n",
       "    <tr>\n",
       "      <th>226</th>\n",
       "      <td>NaN</td>\n",
       "      <td>0</td>\n",
       "      <td>0</td>\n",
       "    </tr>\n",
       "    <tr>\n",
       "      <th>233</th>\n",
       "      <td>NaN</td>\n",
       "      <td>0</td>\n",
       "      <td>0</td>\n",
       "    </tr>\n",
       "    <tr>\n",
       "      <th>261</th>\n",
       "      <td>NaN</td>\n",
       "      <td>0</td>\n",
       "      <td>0</td>\n",
       "    </tr>\n",
       "    <tr>\n",
       "      <th>304</th>\n",
       "      <td>NaN</td>\n",
       "      <td>0</td>\n",
       "      <td>0</td>\n",
       "    </tr>\n",
       "    <tr>\n",
       "      <th>326</th>\n",
       "      <td>NaN</td>\n",
       "      <td>0</td>\n",
       "      <td>0</td>\n",
       "    </tr>\n",
       "    <tr>\n",
       "      <th>368</th>\n",
       "      <td>NaN</td>\n",
       "      <td>0</td>\n",
       "      <td>0</td>\n",
       "    </tr>\n",
       "    <tr>\n",
       "      <th>370</th>\n",
       "      <td>NaN</td>\n",
       "      <td>0</td>\n",
       "      <td>0</td>\n",
       "    </tr>\n",
       "    <tr>\n",
       "      <th>377</th>\n",
       "      <td>NaN</td>\n",
       "      <td>0</td>\n",
       "      <td>0</td>\n",
       "    </tr>\n",
       "    <tr>\n",
       "      <th>380</th>\n",
       "      <td>NaN</td>\n",
       "      <td>0</td>\n",
       "      <td>0</td>\n",
       "    </tr>\n",
       "    <tr>\n",
       "      <th>384</th>\n",
       "      <td>NaN</td>\n",
       "      <td>0</td>\n",
       "      <td>0</td>\n",
       "    </tr>\n",
       "    <tr>\n",
       "      <th>397</th>\n",
       "      <td>NaN</td>\n",
       "      <td>0</td>\n",
       "      <td>0</td>\n",
       "    </tr>\n",
       "    <tr>\n",
       "      <th>402</th>\n",
       "      <td>NaN</td>\n",
       "      <td>0</td>\n",
       "      <td>0</td>\n",
       "    </tr>\n",
       "    <tr>\n",
       "      <th>430</th>\n",
       "      <td>NaN</td>\n",
       "      <td>0</td>\n",
       "      <td>0</td>\n",
       "    </tr>\n",
       "    <tr>\n",
       "      <th>442</th>\n",
       "      <td>NaN</td>\n",
       "      <td>0</td>\n",
       "      <td>0</td>\n",
       "    </tr>\n",
       "    <tr>\n",
       "      <th>460</th>\n",
       "      <td>NaN</td>\n",
       "      <td>0</td>\n",
       "      <td>0</td>\n",
       "    </tr>\n",
       "    <tr>\n",
       "      <th>474</th>\n",
       "      <td>NaN</td>\n",
       "      <td>0</td>\n",
       "      <td>0</td>\n",
       "    </tr>\n",
       "    <tr>\n",
       "      <th>486</th>\n",
       "      <td>NaN</td>\n",
       "      <td>0</td>\n",
       "      <td>0</td>\n",
       "    </tr>\n",
       "    <tr>\n",
       "      <th>492</th>\n",
       "      <td>NaN</td>\n",
       "      <td>0</td>\n",
       "      <td>0</td>\n",
       "    </tr>\n",
       "  </tbody>\n",
       "</table>\n",
       "</div>"
      ],
      "text/plain": [
       "     FT%  FT  FTA\n",
       "1    NaN   0    0\n",
       "5    NaN   0    0\n",
       "40   NaN   0    0\n",
       "51   NaN   0    0\n",
       "56   NaN   0    0\n",
       "63   NaN   0    0\n",
       "103  NaN   0    0\n",
       "122  NaN   0    0\n",
       "127  NaN   0    0\n",
       "140  NaN   0    0\n",
       "149  NaN   0    0\n",
       "151  NaN   0    0\n",
       "178  NaN   0    0\n",
       "190  NaN   0    0\n",
       "226  NaN   0    0\n",
       "233  NaN   0    0\n",
       "261  NaN   0    0\n",
       "304  NaN   0    0\n",
       "326  NaN   0    0\n",
       "368  NaN   0    0\n",
       "370  NaN   0    0\n",
       "377  NaN   0    0\n",
       "380  NaN   0    0\n",
       "384  NaN   0    0\n",
       "397  NaN   0    0\n",
       "402  NaN   0    0\n",
       "430  NaN   0    0\n",
       "442  NaN   0    0\n",
       "460  NaN   0    0\n",
       "474  NaN   0    0\n",
       "486  NaN   0    0\n",
       "492  NaN   0    0"
      ]
     },
     "execution_count": 47,
     "metadata": {},
     "output_type": "execute_result"
    }
   ],
   "source": [
    "nba.loc[nba['FT%'].isna(), ['FT%', 'FT', 'FTA']]"
   ]
  },
  {
   "cell_type": "code",
   "execution_count": 48,
   "metadata": {},
   "outputs": [
    {
     "data": {
      "text/plain": [
       "False    512\n",
       "Name: FT%, dtype: int64"
      ]
     },
     "execution_count": 48,
     "metadata": {},
     "output_type": "execute_result"
    }
   ],
   "source": [
    "# fill nan by 0\n",
    "nba['FT%'].fillna(0, inplace = True)\n",
    "nba['FT%'].isna().value_counts()"
   ]
  },
  {
   "cell_type": "code",
   "execution_count": 49,
   "metadata": {
    "scrolled": true
   },
   "outputs": [
    {
     "name": "stdout",
     "output_type": "stream",
     "text": [
      "       FT%  FT  FTA\n",
      "1    0.000   0    0\n",
      "5    0.000   0    0\n",
      "40   0.000   0    0\n",
      "51   0.000   0    0\n",
      "56   0.000   0    0\n",
      "63   0.000   0    0\n",
      "103  0.000   0    0\n",
      "122  0.000   0    0\n",
      "127  0.000   0    0\n",
      "140  0.000   0    0\n",
      "149  0.000   0    0\n",
      "151  0.000   0    0\n",
      "165  0.613  49   80\n",
      "178  0.000   0    0\n",
      "190  0.000   0    0\n",
      "226  0.000   0    0\n",
      "233  0.000   0    0\n",
      "261  0.000   0    0\n",
      "304  0.000   0    0\n",
      "326  0.000   0    0\n",
      "368  0.000   0    0\n",
      "370  0.000   0    0\n",
      "377  0.000   0    0\n",
      "380  0.000   0    0\n",
      "384  0.000   0    0\n",
      "397  0.000   0    0\n",
      "402  0.000   0    0\n",
      "430  0.000   0    0\n",
      "442  0.000   0    0\n",
      "460  0.000   0    0\n",
      "474  0.000   0    0\n",
      "486  0.000   0    0\n",
      "492  0.000   0    0\n",
      "there is no calculation error in FT%\n"
     ]
    }
   ],
   "source": [
    "# sanity check-calculation mistake\n",
    "mask_FTper = nba['FT%'].round(3) != (nba['FT']/nba['FTA']).round(3)\n",
    "print(nba.loc[mask_FTper, ['FT%', 'FT', 'FTA']])\n",
    "print('there is no calculation error in FT%')"
   ]
  },
  {
   "cell_type": "markdown",
   "metadata": {},
   "source": [
    "1.21 ORB "
   ]
  },
  {
   "cell_type": "code",
   "execution_count": 50,
   "metadata": {},
   "outputs": [
    {
     "data": {
      "image/png": "[encoded data removed]",
      "text/plain": [
       "<Figure size 432x288 with 1 Axes>"
      ]
     },
     "metadata": {
      "needs_background": "light"
     },
     "output_type": "display_data"
    },
    {
     "name": "stdout",
     "output_type": "stream",
     "text": [
      "There is no value out of range\n"
     ]
    }
   ],
   "source": [
    "# sanity check-outlier\n",
    "nba['ORB'].plot.hist(title='Histogram of ORB')\n",
    "plt.xlabel('number of offensive rebounds')\n",
    "plt.show()\n",
    "print('There is no value out of range')"
   ]
  },
  {
   "cell_type": "markdown",
   "metadata": {},
   "source": [
    "1.22 DRB"
   ]
  },
  {
   "cell_type": "code",
   "execution_count": 51,
   "metadata": {},
   "outputs": [
    {
     "data": {
      "image/png": "[encoded data removed]",
      "text/plain": [
       "<Figure size 432x288 with 1 Axes>"
      ]
     },
     "metadata": {
      "needs_background": "light"
     },
     "output_type": "display_data"
    },
    {
     "name": "stdout",
     "output_type": "stream",
     "text": [
      "There is no value out of range\n"
     ]
    }
   ],
   "source": [
    "# sanity check - outlier\n",
    "nba['DRB'].plot.hist(title = 'Histogram of DRB')\n",
    "plt.xlabel('Number of defensive rebounds')\n",
    "plt.show()\n",
    "\n",
    "print('There is no value out of range')"
   ]
  },
  {
   "cell_type": "markdown",
   "metadata": {},
   "source": [
    "1.23 TRB"
   ]
  },
  {
   "cell_type": "code",
   "execution_count": 52,
   "metadata": {},
   "outputs": [
    {
     "name": "stdout",
     "output_type": "stream",
     "text": [
      "Series([], Name: TRB, dtype: int64)\n",
      "there is no impossible value in TBR\n"
     ]
    }
   ],
   "source": [
    "# sanity check - unmatch values\n",
    "print(nba.loc[nba['TRB'] != nba['ORB'] + nba['DRB'], 'TRB'])\n",
    "print('there is no impossible value in TBR')"
   ]
  },
  {
   "cell_type": "markdown",
   "metadata": {},
   "source": [
    "1.24 AST"
   ]
  },
  {
   "cell_type": "code",
   "execution_count": 53,
   "metadata": {},
   "outputs": [
    {
     "data": {
      "image/png": "[encoded data removed]",
      "text/plain": [
       "<Figure size 432x288 with 1 Axes>"
      ]
     },
     "metadata": {
      "needs_background": "light"
     },
     "output_type": "display_data"
    },
    {
     "name": "stdout",
     "output_type": "stream",
     "text": [
      "There is no value out of range\n"
     ]
    }
   ],
   "source": [
    "# sanity check - outlier\n",
    "nba['AST'].plot.hist(title='Histogram of AST')\n",
    "plt.xlabel('Number of assists')\n",
    "plt.show()\n",
    "print('There is no value out of range')"
   ]
  },
  {
   "cell_type": "markdown",
   "metadata": {},
   "source": [
    "1.25 STL"
   ]
  },
  {
   "cell_type": "code",
   "execution_count": 54,
   "metadata": {},
   "outputs": [
    {
     "data": {
      "image/png": "[encoded data removed]",
      "text/plain": [
       "<Figure size 432x288 with 1 Axes>"
      ]
     },
     "metadata": {
      "needs_background": "light"
     },
     "output_type": "display_data"
    },
    {
     "name": "stdout",
     "output_type": "stream",
     "text": [
      "There is no value out of range\n"
     ]
    }
   ],
   "source": [
    "# sanity check - outlier\n",
    "nba['STL'].plot.hist(title='Histogram of STL')\n",
    "plt.xlabel('number of steals')\n",
    "plt.show()\n",
    "print('There is no value out of range')"
   ]
  },
  {
   "cell_type": "markdown",
   "metadata": {},
   "source": [
    "1.26 BLK"
   ]
  },
  {
   "cell_type": "code",
   "execution_count": 55,
   "metadata": {},
   "outputs": [
    {
     "data": {
      "image/png": "[encoded data removed]",
      "text/plain": [
       "<Figure size 432x288 with 1 Axes>"
      ]
     },
     "metadata": {
      "needs_background": "light"
     },
     "output_type": "display_data"
    },
    {
     "name": "stdout",
     "output_type": "stream",
     "text": [
      "there is no value out of range\n"
     ]
    }
   ],
   "source": [
    "# sanity check-outlier\n",
    "nba['BLK'].plot.hist(title='Histogram of BLK')\n",
    "plt.xlabel('Number of Blocks')\n",
    "plt.show()\n",
    "print('there is no value out of range')"
   ]
  },
  {
   "cell_type": "markdown",
   "metadata": {},
   "source": [
    "1.27 TOV"
   ]
  },
  {
   "cell_type": "code",
   "execution_count": 56,
   "metadata": {},
   "outputs": [
    {
     "data": {
      "image/png": "[encoded data removed]",
      "text/plain": [
       "<Figure size 432x288 with 1 Axes>"
      ]
     },
     "metadata": {
      "needs_background": "light"
     },
     "output_type": "display_data"
    },
    {
     "name": "stdout",
     "output_type": "stream",
     "text": [
      "there is no value out of range\n"
     ]
    }
   ],
   "source": [
    "# sanity check-outlier\n",
    "nba['TOV'].plot.hist(title='Histogram of TOV')\n",
    "plt.xlabel('number of turnovers')\n",
    "plt.show()\n",
    "print('there is no value out of range')"
   ]
  },
  {
   "cell_type": "markdown",
   "metadata": {},
   "source": [
    "1.28 PF"
   ]
  },
  {
   "cell_type": "code",
   "execution_count": 57,
   "metadata": {
    "scrolled": true
   },
   "outputs": [
    {
     "data": {
      "image/png": "[encoded data removed]",
      "text/plain": [
       "<Figure size 432x288 with 1 Axes>"
      ]
     },
     "metadata": {
      "needs_background": "light"
     },
     "output_type": "display_data"
    },
    {
     "name": "stdout",
     "output_type": "stream",
     "text": [
      "There is a potential outlier in PF\n"
     ]
    }
   ],
   "source": [
    "# sanity check-outlier\n",
    "nba['PF'].plot.hist(title='Histogram of PF')\n",
    "plt.xlabel('number of personal fouls')\n",
    "plt.show()\n",
    "print('There is a potential outlier in PF')"
   ]
  },
  {
   "cell_type": "code",
   "execution_count": 58,
   "metadata": {},
   "outputs": [
    {
     "data": {
      "text/plain": [
       "False    512\n",
       "dtype: int64"
      ]
     },
     "execution_count": 58,
     "metadata": {},
     "output_type": "execute_result"
    }
   ],
   "source": [
    "# checking for players have more than 6 personal fouls in one game\n",
    "(nba['PF'] > nba['G']*6).value_counts()"
   ]
  },
  {
   "cell_type": "code",
   "execution_count": 59,
   "metadata": {},
   "outputs": [
    {
     "name": "stdout",
     "output_type": "stream",
     "text": [
      "          Player   PF   G\n",
      "511  Ivica Zubac  228  38\n",
      "there is no impossible value in PF\n"
     ]
    }
   ],
   "source": [
    "# sanity check \n",
    "print(nba.loc[nba['PF'] > 200, ['Player', 'PF', 'G']])\n",
    "print('there is no impossible value in PF')"
   ]
  },
  {
   "cell_type": "markdown",
   "metadata": {},
   "source": [
    "1.29 PTS"
   ]
  },
  {
   "cell_type": "code",
   "execution_count": 60,
   "metadata": {},
   "outputs": [
    {
     "data": {
      "image/png": "[encoded data removed]",
      "text/plain": [
       "<Figure size 432x288 with 1 Axes>"
      ]
     },
     "metadata": {
      "needs_background": "light"
     },
     "output_type": "display_data"
    },
    {
     "name": "stdout",
     "output_type": "stream",
     "text": [
      "there are two outliers in PTS\n"
     ]
    }
   ],
   "source": [
    "# outlier check\n",
    "nba['PTS'].plot.hist(title='Histogram of PTS')\n",
    "plt.xlabel('Total Points')\n",
    "plt.show()\n",
    "print('there are two outliers in PTS')"
   ]
  },
  {
   "cell_type": "code",
   "execution_count": 61,
   "metadata": {},
   "outputs": [
    {
     "data": {
      "text/html": [
       "<div>\n",
       "<style scoped>\n",
       "    .dataframe tbody tr th:only-of-type {\n",
       "        vertical-align: middle;\n",
       "    }\n",
       "\n",
       "    .dataframe tbody tr th {\n",
       "        vertical-align: top;\n",
       "    }\n",
       "\n",
       "    .dataframe thead th {\n",
       "        text-align: right;\n",
       "    }\n",
       "</style>\n",
       "<table border=\"1\" class=\"dataframe\">\n",
       "  <thead>\n",
       "    <tr style=\"text-align: right;\">\n",
       "      <th></th>\n",
       "      <th>Player</th>\n",
       "      <th>PTS</th>\n",
       "      <th>2P</th>\n",
       "      <th>3P</th>\n",
       "      <th>FT</th>\n",
       "    </tr>\n",
       "  </thead>\n",
       "  <tbody>\n",
       "    <tr>\n",
       "      <th>1</th>\n",
       "      <td>Jaylen Adams</td>\n",
       "      <td>20000</td>\n",
       "      <td>1</td>\n",
       "      <td>0</td>\n",
       "      <td>0</td>\n",
       "    </tr>\n",
       "    <tr>\n",
       "      <th>4</th>\n",
       "      <td>LaMarcus Aldridge</td>\n",
       "      <td>28800</td>\n",
       "      <td>88</td>\n",
       "      <td>27</td>\n",
       "      <td>31</td>\n",
       "    </tr>\n",
       "  </tbody>\n",
       "</table>\n",
       "</div>"
      ],
      "text/plain": [
       "              Player    PTS  2P  3P  FT\n",
       "1       Jaylen Adams  20000   1   0   0\n",
       "4  LaMarcus Aldridge  28800  88  27  31"
      ]
     },
     "execution_count": 61,
     "metadata": {},
     "output_type": "execute_result"
    }
   ],
   "source": [
    "nba.loc[nba['PTS']>= 2000, ['Player', 'PTS', '2P', '3P', 'FT']]"
   ]
  },
  {
   "cell_type": "code",
   "execution_count": 62,
   "metadata": {
    "scrolled": true
   },
   "outputs": [
    {
     "data": {
      "text/html": [
       "<div>\n",
       "<style scoped>\n",
       "    .dataframe tbody tr th:only-of-type {\n",
       "        vertical-align: middle;\n",
       "    }\n",
       "\n",
       "    .dataframe tbody tr th {\n",
       "        vertical-align: top;\n",
       "    }\n",
       "\n",
       "    .dataframe thead th {\n",
       "        text-align: right;\n",
       "    }\n",
       "</style>\n",
       "<table border=\"1\" class=\"dataframe\">\n",
       "  <thead>\n",
       "    <tr style=\"text-align: right;\">\n",
       "      <th></th>\n",
       "      <th>PTS</th>\n",
       "      <th>2P</th>\n",
       "      <th>3P</th>\n",
       "      <th>FT</th>\n",
       "    </tr>\n",
       "  </thead>\n",
       "  <tbody>\n",
       "    <tr>\n",
       "      <th>1</th>\n",
       "      <td>2</td>\n",
       "      <td>1</td>\n",
       "      <td>0</td>\n",
       "      <td>0</td>\n",
       "    </tr>\n",
       "    <tr>\n",
       "      <th>4</th>\n",
       "      <td>288</td>\n",
       "      <td>88</td>\n",
       "      <td>27</td>\n",
       "      <td>31</td>\n",
       "    </tr>\n",
       "  </tbody>\n",
       "</table>\n",
       "</div>"
      ],
      "text/plain": [
       "   PTS  2P  3P  FT\n",
       "1    2   1   0   0\n",
       "4  288  88  27  31"
      ]
     },
     "execution_count": 62,
     "metadata": {},
     "output_type": "execute_result"
    }
   ],
   "source": [
    "# filling the outlier by 2P, 3P and FT value\n",
    "nba.loc[nba['PTS'] >=2000, 'PTS']  = nba['2P']*2 + nba['3P']*3 + nba['FT']\n",
    "nba.loc[[1,4], ['PTS', '2P', '3P', 'FT']]"
   ]
  },
  {
   "cell_type": "code",
   "execution_count": 63,
   "metadata": {},
   "outputs": [],
   "source": [
    "#Save cleaned data\n",
    "nba.to_csv('cleaned_NBA_players_stats.csv', index=False)"
   ]
  },
  {
   "cell_type": "markdown",
   "metadata": {},
   "source": [
    "TASK 2. DATA EXPLORATION"
   ]
  },
  {
   "cell_type": "markdown",
   "metadata": {},
   "source": [
    "2.1 analyzing top five players"
   ]
  },
  {
   "cell_type": "code",
   "execution_count": 64,
   "metadata": {},
   "outputs": [
    {
     "data": {
      "text/html": [
       "<div>\n",
       "<style scoped>\n",
       "    .dataframe tbody tr th:only-of-type {\n",
       "        vertical-align: middle;\n",
       "    }\n",
       "\n",
       "    .dataframe tbody tr th {\n",
       "        vertical-align: top;\n",
       "    }\n",
       "\n",
       "    .dataframe thead th {\n",
       "        text-align: right;\n",
       "    }\n",
       "</style>\n",
       "<table border=\"1\" class=\"dataframe\">\n",
       "  <thead>\n",
       "    <tr style=\"text-align: right;\">\n",
       "      <th></th>\n",
       "      <th>Age</th>\n",
       "      <th>G</th>\n",
       "      <th>GS</th>\n",
       "      <th>MP</th>\n",
       "      <th>FG</th>\n",
       "      <th>FGA</th>\n",
       "      <th>FG%</th>\n",
       "      <th>3P</th>\n",
       "      <th>3PA</th>\n",
       "      <th>3P%</th>\n",
       "      <th>...</th>\n",
       "      <th>FT%</th>\n",
       "      <th>ORB</th>\n",
       "      <th>DRB</th>\n",
       "      <th>TRB</th>\n",
       "      <th>AST</th>\n",
       "      <th>STL</th>\n",
       "      <th>BLK</th>\n",
       "      <th>TOV</th>\n",
       "      <th>PF</th>\n",
       "      <th>PTS</th>\n",
       "    </tr>\n",
       "    <tr>\n",
       "      <th>Rk</th>\n",
       "      <th></th>\n",
       "      <th></th>\n",
       "      <th></th>\n",
       "      <th></th>\n",
       "      <th></th>\n",
       "      <th></th>\n",
       "      <th></th>\n",
       "      <th></th>\n",
       "      <th></th>\n",
       "      <th></th>\n",
       "      <th></th>\n",
       "      <th></th>\n",
       "      <th></th>\n",
       "      <th></th>\n",
       "      <th></th>\n",
       "      <th></th>\n",
       "      <th></th>\n",
       "      <th></th>\n",
       "      <th></th>\n",
       "      <th></th>\n",
       "      <th></th>\n",
       "    </tr>\n",
       "  </thead>\n",
       "  <tbody>\n",
       "    <tr>\n",
       "      <th>182</th>\n",
       "      <td>93</td>\n",
       "      <td>62</td>\n",
       "      <td>62</td>\n",
       "      <td>2346</td>\n",
       "      <td>500</td>\n",
       "      <td>1034</td>\n",
       "      <td>1.425</td>\n",
       "      <td>202</td>\n",
       "      <td>504</td>\n",
       "      <td>1.170</td>\n",
       "      <td>...</td>\n",
       "      <td>2.592</td>\n",
       "      <td>52</td>\n",
       "      <td>432</td>\n",
       "      <td>484</td>\n",
       "      <td>690</td>\n",
       "      <td>72</td>\n",
       "      <td>42</td>\n",
       "      <td>262</td>\n",
       "      <td>134</td>\n",
       "      <td>1568</td>\n",
       "    </tr>\n",
       "    <tr>\n",
       "      <th>37</th>\n",
       "      <td>27</td>\n",
       "      <td>32</td>\n",
       "      <td>32</td>\n",
       "      <td>1143</td>\n",
       "      <td>368</td>\n",
       "      <td>764</td>\n",
       "      <td>0.482</td>\n",
       "      <td>74</td>\n",
       "      <td>221</td>\n",
       "      <td>0.335</td>\n",
       "      <td>...</td>\n",
       "      <td>0.903</td>\n",
       "      <td>43</td>\n",
       "      <td>131</td>\n",
       "      <td>174</td>\n",
       "      <td>151</td>\n",
       "      <td>44</td>\n",
       "      <td>14</td>\n",
       "      <td>105</td>\n",
       "      <td>82</td>\n",
       "      <td>1053</td>\n",
       "    </tr>\n",
       "    <tr>\n",
       "      <th>109</th>\n",
       "      <td>32</td>\n",
       "      <td>35</td>\n",
       "      <td>35</td>\n",
       "      <td>1194</td>\n",
       "      <td>343</td>\n",
       "      <td>718</td>\n",
       "      <td>0.478</td>\n",
       "      <td>169</td>\n",
       "      <td>411</td>\n",
       "      <td>0.411</td>\n",
       "      <td>...</td>\n",
       "      <td>0.934</td>\n",
       "      <td>17</td>\n",
       "      <td>174</td>\n",
       "      <td>191</td>\n",
       "      <td>221</td>\n",
       "      <td>46</td>\n",
       "      <td>2</td>\n",
       "      <td>111</td>\n",
       "      <td>64</td>\n",
       "      <td>1039</td>\n",
       "    </tr>\n",
       "    <tr>\n",
       "      <th>12</th>\n",
       "      <td>26</td>\n",
       "      <td>35</td>\n",
       "      <td>35</td>\n",
       "      <td>1189</td>\n",
       "      <td>368</td>\n",
       "      <td>661</td>\n",
       "      <td>0.557</td>\n",
       "      <td>39</td>\n",
       "      <td>137</td>\n",
       "      <td>0.285</td>\n",
       "      <td>...</td>\n",
       "      <td>0.661</td>\n",
       "      <td>64</td>\n",
       "      <td>344</td>\n",
       "      <td>408</td>\n",
       "      <td>205</td>\n",
       "      <td>44</td>\n",
       "      <td>49</td>\n",
       "      <td>128</td>\n",
       "      <td>106</td>\n",
       "      <td>1015</td>\n",
       "    </tr>\n",
       "    <tr>\n",
       "      <th>268</th>\n",
       "      <td>30</td>\n",
       "      <td>34</td>\n",
       "      <td>34</td>\n",
       "      <td>1224</td>\n",
       "      <td>315</td>\n",
       "      <td>708</td>\n",
       "      <td>0.445</td>\n",
       "      <td>146</td>\n",
       "      <td>380</td>\n",
       "      <td>0.384</td>\n",
       "      <td>...</td>\n",
       "      <td>0.933</td>\n",
       "      <td>15</td>\n",
       "      <td>130</td>\n",
       "      <td>145</td>\n",
       "      <td>271</td>\n",
       "      <td>35</td>\n",
       "      <td>9</td>\n",
       "      <td>111</td>\n",
       "      <td>53</td>\n",
       "      <td>1013</td>\n",
       "    </tr>\n",
       "    <tr>\n",
       "      <th>...</th>\n",
       "      <td>...</td>\n",
       "      <td>...</td>\n",
       "      <td>...</td>\n",
       "      <td>...</td>\n",
       "      <td>...</td>\n",
       "      <td>...</td>\n",
       "      <td>...</td>\n",
       "      <td>...</td>\n",
       "      <td>...</td>\n",
       "      <td>...</td>\n",
       "      <td>...</td>\n",
       "      <td>...</td>\n",
       "      <td>...</td>\n",
       "      <td>...</td>\n",
       "      <td>...</td>\n",
       "      <td>...</td>\n",
       "      <td>...</td>\n",
       "      <td>...</td>\n",
       "      <td>...</td>\n",
       "      <td>...</td>\n",
       "      <td>...</td>\n",
       "    </tr>\n",
       "    <tr>\n",
       "      <th>150</th>\n",
       "      <td>23</td>\n",
       "      <td>4</td>\n",
       "      <td>0</td>\n",
       "      <td>12</td>\n",
       "      <td>0</td>\n",
       "      <td>3</td>\n",
       "      <td>0.000</td>\n",
       "      <td>0</td>\n",
       "      <td>1</td>\n",
       "      <td>0.000</td>\n",
       "      <td>...</td>\n",
       "      <td>0.000</td>\n",
       "      <td>1</td>\n",
       "      <td>4</td>\n",
       "      <td>5</td>\n",
       "      <td>1</td>\n",
       "      <td>0</td>\n",
       "      <td>0</td>\n",
       "      <td>0</td>\n",
       "      <td>0</td>\n",
       "      <td>0</td>\n",
       "    </tr>\n",
       "    <tr>\n",
       "      <th>295</th>\n",
       "      <td>25</td>\n",
       "      <td>3</td>\n",
       "      <td>0</td>\n",
       "      <td>20</td>\n",
       "      <td>0</td>\n",
       "      <td>0</td>\n",
       "      <td>0.000</td>\n",
       "      <td>0</td>\n",
       "      <td>0</td>\n",
       "      <td>0.000</td>\n",
       "      <td>...</td>\n",
       "      <td>0.000</td>\n",
       "      <td>1</td>\n",
       "      <td>0</td>\n",
       "      <td>1</td>\n",
       "      <td>4</td>\n",
       "      <td>0</td>\n",
       "      <td>0</td>\n",
       "      <td>0</td>\n",
       "      <td>3</td>\n",
       "      <td>0</td>\n",
       "    </tr>\n",
       "    <tr>\n",
       "      <th>177</th>\n",
       "      <td>21</td>\n",
       "      <td>2</td>\n",
       "      <td>0</td>\n",
       "      <td>4</td>\n",
       "      <td>0</td>\n",
       "      <td>0</td>\n",
       "      <td>0.000</td>\n",
       "      <td>0</td>\n",
       "      <td>0</td>\n",
       "      <td>0.000</td>\n",
       "      <td>...</td>\n",
       "      <td>0.000</td>\n",
       "      <td>0</td>\n",
       "      <td>0</td>\n",
       "      <td>0</td>\n",
       "      <td>0</td>\n",
       "      <td>0</td>\n",
       "      <td>0</td>\n",
       "      <td>1</td>\n",
       "      <td>0</td>\n",
       "      <td>0</td>\n",
       "    </tr>\n",
       "    <tr>\n",
       "      <th>455</th>\n",
       "      <td>25</td>\n",
       "      <td>4</td>\n",
       "      <td>0</td>\n",
       "      <td>11</td>\n",
       "      <td>0</td>\n",
       "      <td>3</td>\n",
       "      <td>0.000</td>\n",
       "      <td>0</td>\n",
       "      <td>2</td>\n",
       "      <td>0.000</td>\n",
       "      <td>...</td>\n",
       "      <td>0.000</td>\n",
       "      <td>0</td>\n",
       "      <td>1</td>\n",
       "      <td>1</td>\n",
       "      <td>1</td>\n",
       "      <td>0</td>\n",
       "      <td>0</td>\n",
       "      <td>2</td>\n",
       "      <td>2</td>\n",
       "      <td>0</td>\n",
       "    </tr>\n",
       "    <tr>\n",
       "      <th>187</th>\n",
       "      <td>22</td>\n",
       "      <td>2</td>\n",
       "      <td>0</td>\n",
       "      <td>4</td>\n",
       "      <td>0</td>\n",
       "      <td>0</td>\n",
       "      <td>0.000</td>\n",
       "      <td>0</td>\n",
       "      <td>0</td>\n",
       "      <td>0.000</td>\n",
       "      <td>...</td>\n",
       "      <td>0.000</td>\n",
       "      <td>1</td>\n",
       "      <td>0</td>\n",
       "      <td>1</td>\n",
       "      <td>0</td>\n",
       "      <td>0</td>\n",
       "      <td>0</td>\n",
       "      <td>1</td>\n",
       "      <td>2</td>\n",
       "      <td>0</td>\n",
       "    </tr>\n",
       "  </tbody>\n",
       "</table>\n",
       "<p>492 rows × 25 columns</p>\n",
       "</div>"
      ],
      "text/plain": [
       "     Age   G  GS    MP   FG   FGA    FG%   3P  3PA    3P%  ...    FT%  ORB  \\\n",
       "Rk                                                         ...               \n",
       "182   93  62  62  2346  500  1034  1.425  202  504  1.170  ...  2.592   52   \n",
       "37    27  32  32  1143  368   764  0.482   74  221  0.335  ...  0.903   43   \n",
       "109   32  35  35  1194  343   718  0.478  169  411  0.411  ...  0.934   17   \n",
       "12    26  35  35  1189  368   661  0.557   39  137  0.285  ...  0.661   64   \n",
       "268   30  34  34  1224  315   708  0.445  146  380  0.384  ...  0.933   15   \n",
       "..   ...  ..  ..   ...  ...   ...    ...  ...  ...    ...  ...    ...  ...   \n",
       "150   23   4   0    12    0     3  0.000    0    1  0.000  ...  0.000    1   \n",
       "295   25   3   0    20    0     0  0.000    0    0  0.000  ...  0.000    1   \n",
       "177   21   2   0     4    0     0  0.000    0    0  0.000  ...  0.000    0   \n",
       "455   25   4   0    11    0     3  0.000    0    2  0.000  ...  0.000    0   \n",
       "187   22   2   0     4    0     0  0.000    0    0  0.000  ...  0.000    1   \n",
       "\n",
       "     DRB  TRB  AST  STL  BLK  TOV   PF   PTS  \n",
       "Rk                                            \n",
       "182  432  484  690   72   42  262  134  1568  \n",
       "37   131  174  151   44   14  105   82  1053  \n",
       "109  174  191  221   46    2  111   64  1039  \n",
       "12   344  408  205   44   49  128  106  1015  \n",
       "268  130  145  271   35    9  111   53  1013  \n",
       "..   ...  ...  ...  ...  ...  ...  ...   ...  \n",
       "150    4    5    1    0    0    0    0     0  \n",
       "295    0    1    4    0    0    0    3     0  \n",
       "177    0    0    0    0    0    1    0     0  \n",
       "455    1    1    1    0    0    2    2     0  \n",
       "187    0    1    0    0    0    1    2     0  \n",
       "\n",
       "[492 rows x 25 columns]"
      ]
     },
     "execution_count": 64,
     "metadata": {},
     "output_type": "execute_result"
    }
   ],
   "source": [
    "# group data by Rk and sort by PTS. Players'PTS whom played for more than one time, are sum of PTS for teams played\n",
    "grouped_nba = nba.groupby(['Rk']).sum().sort_values(by='PTS', ascending=False)\n",
    "grouped_nba"
   ]
  },
  {
   "cell_type": "code",
   "execution_count": 65,
   "metadata": {},
   "outputs": [
    {
     "data": {
      "text/html": [
       "<div>\n",
       "<style scoped>\n",
       "    .dataframe tbody tr th:only-of-type {\n",
       "        vertical-align: middle;\n",
       "    }\n",
       "\n",
       "    .dataframe tbody tr th {\n",
       "        vertical-align: top;\n",
       "    }\n",
       "\n",
       "    .dataframe thead th {\n",
       "        text-align: right;\n",
       "    }\n",
       "</style>\n",
       "<table border=\"1\" class=\"dataframe\">\n",
       "  <thead>\n",
       "    <tr style=\"text-align: right;\">\n",
       "      <th></th>\n",
       "      <th>2P</th>\n",
       "      <th>3P</th>\n",
       "      <th>FT</th>\n",
       "      <th>PTS</th>\n",
       "    </tr>\n",
       "    <tr>\n",
       "      <th>Rk</th>\n",
       "      <th></th>\n",
       "      <th></th>\n",
       "      <th></th>\n",
       "      <th></th>\n",
       "    </tr>\n",
       "  </thead>\n",
       "  <tbody>\n",
       "    <tr>\n",
       "      <th>182</th>\n",
       "      <td>298</td>\n",
       "      <td>202</td>\n",
       "      <td>366</td>\n",
       "      <td>1568</td>\n",
       "    </tr>\n",
       "    <tr>\n",
       "      <th>37</th>\n",
       "      <td>294</td>\n",
       "      <td>74</td>\n",
       "      <td>243</td>\n",
       "      <td>1053</td>\n",
       "    </tr>\n",
       "    <tr>\n",
       "      <th>109</th>\n",
       "      <td>174</td>\n",
       "      <td>169</td>\n",
       "      <td>184</td>\n",
       "      <td>1039</td>\n",
       "    </tr>\n",
       "    <tr>\n",
       "      <th>12</th>\n",
       "      <td>329</td>\n",
       "      <td>39</td>\n",
       "      <td>240</td>\n",
       "      <td>1015</td>\n",
       "    </tr>\n",
       "    <tr>\n",
       "      <th>268</th>\n",
       "      <td>169</td>\n",
       "      <td>146</td>\n",
       "      <td>237</td>\n",
       "      <td>1013</td>\n",
       "    </tr>\n",
       "  </tbody>\n",
       "</table>\n",
       "</div>"
      ],
      "text/plain": [
       "      2P   3P   FT   PTS\n",
       "Rk                      \n",
       "182  298  202  366  1568\n",
       "37   294   74  243  1053\n",
       "109  174  169  184  1039\n",
       "12   329   39  240  1015\n",
       "268  169  146  237  1013"
      ]
     },
     "execution_count": 65,
     "metadata": {},
     "output_type": "execute_result"
    }
   ],
   "source": [
    "# extract top five players\n",
    "top_five = grouped_nba[['2P', '3P', 'FT', 'PTS']].head().copy()\n",
    "top_five"
   ]
  },
  {
   "cell_type": "code",
   "execution_count": 66,
   "metadata": {},
   "outputs": [
    {
     "name": "stdout",
     "output_type": "stream",
     "text": [
      "183    James Harden\n",
      "184    James Harden\n",
      "185    James Harden\n",
      "Name: Player, dtype: object\n",
      "38    Bradley Beal\n",
      "Name: Player, dtype: object\n",
      "110    Stephen Curry\n",
      "Name: Player, dtype: object\n",
      "13    Giannis Antetokounmpo\n",
      "Name: Player, dtype: object\n",
      "277    Damian Lillard\n",
      "Name: Player, dtype: object\n"
     ]
    }
   ],
   "source": [
    "# find the player names\n",
    "r182 = nba['Rk'] == 182\n",
    "print(nba.loc[r182, 'Player'])\n",
    "r37 = nba['Rk'] == 37\n",
    "print(nba.loc[r37, 'Player'])\n",
    "r109 = nba['Rk'] == 109\n",
    "print(nba.loc[r109, 'Player'])\n",
    "r12= nba['Rk'] == 12\n",
    "print(nba.loc[r12, 'Player'])\n",
    "r268 = nba['Rk'] == 268\n",
    "print(nba.loc[r268, 'Player'])"
   ]
  },
  {
   "cell_type": "code",
   "execution_count": 67,
   "metadata": {},
   "outputs": [
    {
     "name": "stdout",
     "output_type": "stream",
     "text": [
      "2P mean: 252.8\n",
      "3P mean: 126.0\n",
      "FT mean: 254.0\n"
     ]
    }
   ],
   "source": [
    "# mean of each shot\n",
    "print('2P mean:', top_five['2P'].mean())\n",
    "print('3P mean:', top_five['3P'].mean())\n",
    "print('FT mean:', top_five['FT'].mean())"
   ]
  },
  {
   "cell_type": "code",
   "execution_count": 68,
   "metadata": {},
   "outputs": [
    {
     "data": {
      "image/png": "[encoded data removed]",
      "text/plain": [
       "<Figure size 864x576 with 1 Axes>"
      ]
     },
     "metadata": {
      "needs_background": "light"
     },
     "output_type": "display_data"
    }
   ],
   "source": [
    "# create dataframe for top 5 players\n",
    "p2 = top_five['2P'].tolist()\n",
    "p3 = top_five['3P'].tolist()\n",
    "ft= top_five['FT'].tolist()\n",
    "index = ['James Harden', 'Bradley BealJame','Stephen Curry', 'Giannis Antetokounmpo', 'Damian Lillard']\n",
    "df = pd.DataFrame({'2P':p2, '3P' : p3, 'FT': ft}, index=index)\n",
    "\n",
    "ax = df.plot(stacked=True, kind='bar', figsize=(12, 8), rot='horizontal')\n",
    "\n",
    "# .patches is everything inside of the chart\n",
    "for rect in ax.patches:\n",
    "    # Find where everything is located\n",
    "    height = rect.get_height()\n",
    "    width = rect.get_width()\n",
    "    x = rect.get_x()\n",
    "    y = rect.get_y()\n",
    "    \n",
    "    # The height of the bar is the data value and can be used as the label\n",
    "    label_text = height \n",
    "    # ax.text(x, y, text)\n",
    "    label_x= x + width / 2\n",
    "    label_y= y + height / 2\n",
    "\n",
    "    # plot only when height is greater than specified value\n",
    "    if height > 0:\n",
    "        ax.text(label_x, label_y, label_text, ha='center', va='center', fontsize=13)\n",
    "    \n",
    "ax.legend( bbox_to_anchor=(1.05, 1),loc='upper left', borderaxespad=0.)   \n",
    "ax.set_ylabel(\"Shots\", fontsize=10)\n",
    "ax.set_xlabel(\"Players\", fontsize=10)\n",
    "plt.title('Composition of Total points of the top five Players with the most points')\n",
    "plt.show()"
   ]
  },
  {
   "cell_type": "code",
   "execution_count": 69,
   "metadata": {},
   "outputs": [
    {
     "data": {
      "text/html": [
       "<div>\n",
       "<style scoped>\n",
       "    .dataframe tbody tr th:only-of-type {\n",
       "        vertical-align: middle;\n",
       "    }\n",
       "\n",
       "    .dataframe tbody tr th {\n",
       "        vertical-align: top;\n",
       "    }\n",
       "\n",
       "    .dataframe thead th {\n",
       "        text-align: right;\n",
       "    }\n",
       "</style>\n",
       "<table border=\"1\" class=\"dataframe\">\n",
       "  <thead>\n",
       "    <tr style=\"text-align: right;\">\n",
       "      <th></th>\n",
       "      <th>2P</th>\n",
       "      <th>3P</th>\n",
       "      <th>FT</th>\n",
       "    </tr>\n",
       "  </thead>\n",
       "  <tbody>\n",
       "    <tr>\n",
       "      <th>mean</th>\n",
       "      <td>252.8</td>\n",
       "      <td>126.0</td>\n",
       "      <td>254.0</td>\n",
       "    </tr>\n",
       "    <tr>\n",
       "      <th>min</th>\n",
       "      <td>169.0</td>\n",
       "      <td>39.0</td>\n",
       "      <td>184.0</td>\n",
       "    </tr>\n",
       "    <tr>\n",
       "      <th>max</th>\n",
       "      <td>329.0</td>\n",
       "      <td>202.0</td>\n",
       "      <td>366.0</td>\n",
       "    </tr>\n",
       "  </tbody>\n",
       "</table>\n",
       "</div>"
      ],
      "text/plain": [
       "         2P     3P     FT\n",
       "mean  252.8  126.0  254.0\n",
       "min   169.0   39.0  184.0\n",
       "max   329.0  202.0  366.0"
      ]
     },
     "execution_count": 69,
     "metadata": {},
     "output_type": "execute_result"
    }
   ],
   "source": [
    "# summary statistic of composition of total points of top five players\n",
    "describe_df = df.describe()\n",
    "describe_df.loc[['mean', 'min', 'max'], :]"
   ]
  },
  {
   "cell_type": "markdown",
   "metadata": {},
   "source": [
    "2.2 Find errors in 3P, 3P% and 3PA  by visualization are done in data prepration. There are 33 missing values and 3 calculation mistakes in 3P%. Missing values are filled by 0 and calculation mistakes are replaced by results of division of 3P and 3PA."
   ]
  },
  {
   "cell_type": "markdown",
   "metadata": {},
   "source": [
    "2.3 Analyzing the relationship between PTS to STL, MP and TOV"
   ]
  },
  {
   "cell_type": "code",
   "execution_count": 70,
   "metadata": {
    "scrolled": true
   },
   "outputs": [
    {
     "data": {
      "image/png": "[encoded data removed]",
      "text/plain": [
       "<Figure size 432x288 with 1 Axes>"
      ]
     },
     "metadata": {
      "needs_background": "light"
     },
     "output_type": "display_data"
    },
    {
     "name": "stdout",
     "output_type": "stream",
     "text": [
      "Correlation 0.7602493300092283\n",
      "the graph showed a positive, weak linear relationship between STL and PTS.PTS increased when STL increased. However, not all PTS's players followed this trend.\n",
      "There were outliers where some players had the same amount of steals but having different total points\n"
     ]
    }
   ],
   "source": [
    "# the association between STL and PTS\n",
    "nba.plot.scatter(x='STL', y='PTS', title='The association between STL and PTS')\n",
    "plt.show()\n",
    "correlation_STL = nba['STL'].corr(nba['PTS'])\n",
    "print('Correlation', correlation_STL)\n",
    "print('the graph showed a positive, weak linear relationship between STL and PTS.', end='')\n",
    "print('PTS increased when STL increased. However, not all PTS\\'s players followed this trend.')\n",
    "print('There were outliers where some players had the same amount of steals but having different total points')"
   ]
  },
  {
   "cell_type": "code",
   "execution_count": 71,
   "metadata": {},
   "outputs": [
    {
     "data": {
      "image/png": "[encoded data removed]",
      "text/plain": [
       "<Figure size 432x288 with 1 Axes>"
      ]
     },
     "metadata": {
      "needs_background": "light"
     },
     "output_type": "display_data"
    },
    {
     "name": "stdout",
     "output_type": "stream",
     "text": [
      "Correlation 0.9011949335859648\n",
      "the graph described a positive strong nonlinear relationship between MP and PTS\n",
      "PTS increased when MP increased.\n"
     ]
    }
   ],
   "source": [
    "# the association between MP and PTS\n",
    "nba.plot.scatter(x='MP', y='PTS', title='The association between MP and PTS')\n",
    "plt.show()\n",
    "correlation_MP_PTS = nba['MP'].corr(nba['PTS'])\n",
    "print('Correlation', correlation_MP_PTS)\n",
    "print('the graph described a positive strong nonlinear relationship between MP and PTS')\n",
    "print('PTS increased when MP increased.')"
   ]
  },
  {
   "cell_type": "code",
   "execution_count": 72,
   "metadata": {},
   "outputs": [
    {
     "data": {
      "image/png": "[encoded data removed]",
      "text/plain": [
       "<Figure size 432x288 with 1 Axes>"
      ]
     },
     "metadata": {
      "needs_background": "light"
     },
     "output_type": "display_data"
    },
    {
     "name": "stdout",
     "output_type": "stream",
     "text": [
      "Correlation 0.907573260698202\n",
      "The graph described a positive, very strong linear relationship between TOV and PTS.\n",
      "More than half of player's PTS and TOV distributed in the bottom left of the graph.\n",
      "In short, PTS of players increased when their TOV increased\n"
     ]
    }
   ],
   "source": [
    "# the association between TOV and PTS\n",
    "nba.plot.scatter(x='TOV', y='PTS', title='The association between TOV and PTS')\n",
    "plt.show()\n",
    "correlation_TOV_PTS = nba['TOV'].corr(nba['PTS'])\n",
    "print('Correlation', correlation_TOV_PTS)\n",
    "print('The graph described a positive, very strong linear relationship between TOV and PTS.')\n",
    "print('More than half of player\\'s PTS and TOV distributed in the bottom left of the graph.')\n",
    "print('In short, PTS of players increased when their TOV increased')"
   ]
  },
  {
   "cell_type": "code",
   "execution_count": null,
   "metadata": {},
   "outputs": [],
   "source": []
  }
 ],
 "metadata": {
  "kernelspec": {
   "display_name": "Python 3",
   "language": "python",
   "name": "python3"
  },
  "language_info": {
   "codemirror_mode": {
    "name": "ipython",
    "version": 3
   },
   "file_extension": ".py",
   "mimetype": "text/x-python",
   "name": "python",
   "nbconvert_exporter": "python",
   "pygments_lexer": "ipython3",
   "version": "3.8.3"
  }
 },
 "nbformat": 4,
 "nbformat_minor": 4
}
